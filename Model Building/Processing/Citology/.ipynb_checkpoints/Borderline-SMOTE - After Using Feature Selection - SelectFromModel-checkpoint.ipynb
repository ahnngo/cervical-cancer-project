{
 "cells": [
  {
   "cell_type": "code",
   "execution_count": 1,
   "id": "b8fd1173",
   "metadata": {},
   "outputs": [],
   "source": [
    "import pandas as pd\n",
    "import numpy as np\n",
    "import matplotlib.pyplot as plt\n",
    "import seaborn as sns\n",
    "%matplotlib inline"
   ]
  },
  {
   "cell_type": "code",
   "execution_count": 2,
   "id": "d8c79192",
   "metadata": {},
   "outputs": [],
   "source": [
    "df = pd.read_csv(\"Clean Data_2.csv\")"
   ]
  },
  {
   "cell_type": "code",
   "execution_count": 3,
   "id": "4c1d15e0",
   "metadata": {},
   "outputs": [
    {
     "data": {
      "text/html": [
       "<div>\n",
       "<style scoped>\n",
       "    .dataframe tbody tr th:only-of-type {\n",
       "        vertical-align: middle;\n",
       "    }\n",
       "\n",
       "    .dataframe tbody tr th {\n",
       "        vertical-align: top;\n",
       "    }\n",
       "\n",
       "    .dataframe thead th {\n",
       "        text-align: right;\n",
       "    }\n",
       "</style>\n",
       "<table border=\"1\" class=\"dataframe\">\n",
       "  <thead>\n",
       "    <tr style=\"text-align: right;\">\n",
       "      <th></th>\n",
       "      <th>Unnamed: 0</th>\n",
       "      <th>Age</th>\n",
       "      <th>Number of sexual partners</th>\n",
       "      <th>First sexual intercourse</th>\n",
       "      <th>Num of pregnancies</th>\n",
       "      <th>Smokes</th>\n",
       "      <th>Smokes (years)</th>\n",
       "      <th>Smokes (packs/year)</th>\n",
       "      <th>Hormonal Contraceptives</th>\n",
       "      <th>Hormonal Contraceptives (years)</th>\n",
       "      <th>...</th>\n",
       "      <th>STDs:HIV</th>\n",
       "      <th>STDs: Number of diagnosis</th>\n",
       "      <th>Dx:Cancer</th>\n",
       "      <th>Dx:CIN</th>\n",
       "      <th>Dx:HPV</th>\n",
       "      <th>Dx</th>\n",
       "      <th>Hinselmann</th>\n",
       "      <th>Schiller</th>\n",
       "      <th>Citology</th>\n",
       "      <th>Biopsy</th>\n",
       "    </tr>\n",
       "  </thead>\n",
       "  <tbody>\n",
       "    <tr>\n",
       "      <th>0</th>\n",
       "      <td>0</td>\n",
       "      <td>18</td>\n",
       "      <td>4.0</td>\n",
       "      <td>15.0</td>\n",
       "      <td>1.0</td>\n",
       "      <td>0.0</td>\n",
       "      <td>0.0</td>\n",
       "      <td>0.0</td>\n",
       "      <td>0.0</td>\n",
       "      <td>0.00</td>\n",
       "      <td>...</td>\n",
       "      <td>0.0</td>\n",
       "      <td>0</td>\n",
       "      <td>0</td>\n",
       "      <td>0</td>\n",
       "      <td>0</td>\n",
       "      <td>0</td>\n",
       "      <td>0</td>\n",
       "      <td>0</td>\n",
       "      <td>0</td>\n",
       "      <td>0</td>\n",
       "    </tr>\n",
       "    <tr>\n",
       "      <th>1</th>\n",
       "      <td>1</td>\n",
       "      <td>15</td>\n",
       "      <td>1.0</td>\n",
       "      <td>14.0</td>\n",
       "      <td>1.0</td>\n",
       "      <td>0.0</td>\n",
       "      <td>0.0</td>\n",
       "      <td>0.0</td>\n",
       "      <td>0.0</td>\n",
       "      <td>0.00</td>\n",
       "      <td>...</td>\n",
       "      <td>0.0</td>\n",
       "      <td>0</td>\n",
       "      <td>0</td>\n",
       "      <td>0</td>\n",
       "      <td>0</td>\n",
       "      <td>0</td>\n",
       "      <td>0</td>\n",
       "      <td>0</td>\n",
       "      <td>0</td>\n",
       "      <td>0</td>\n",
       "    </tr>\n",
       "    <tr>\n",
       "      <th>2</th>\n",
       "      <td>2</td>\n",
       "      <td>34</td>\n",
       "      <td>1.0</td>\n",
       "      <td>17.0</td>\n",
       "      <td>1.0</td>\n",
       "      <td>0.0</td>\n",
       "      <td>0.0</td>\n",
       "      <td>0.0</td>\n",
       "      <td>0.0</td>\n",
       "      <td>0.00</td>\n",
       "      <td>...</td>\n",
       "      <td>0.0</td>\n",
       "      <td>0</td>\n",
       "      <td>0</td>\n",
       "      <td>0</td>\n",
       "      <td>0</td>\n",
       "      <td>0</td>\n",
       "      <td>0</td>\n",
       "      <td>0</td>\n",
       "      <td>0</td>\n",
       "      <td>0</td>\n",
       "    </tr>\n",
       "    <tr>\n",
       "      <th>3</th>\n",
       "      <td>3</td>\n",
       "      <td>52</td>\n",
       "      <td>5.0</td>\n",
       "      <td>16.0</td>\n",
       "      <td>4.0</td>\n",
       "      <td>1.0</td>\n",
       "      <td>37.0</td>\n",
       "      <td>37.0</td>\n",
       "      <td>1.0</td>\n",
       "      <td>3.00</td>\n",
       "      <td>...</td>\n",
       "      <td>0.0</td>\n",
       "      <td>0</td>\n",
       "      <td>1</td>\n",
       "      <td>0</td>\n",
       "      <td>1</td>\n",
       "      <td>0</td>\n",
       "      <td>0</td>\n",
       "      <td>0</td>\n",
       "      <td>0</td>\n",
       "      <td>0</td>\n",
       "    </tr>\n",
       "    <tr>\n",
       "      <th>4</th>\n",
       "      <td>4</td>\n",
       "      <td>46</td>\n",
       "      <td>3.0</td>\n",
       "      <td>21.0</td>\n",
       "      <td>4.0</td>\n",
       "      <td>0.0</td>\n",
       "      <td>0.0</td>\n",
       "      <td>0.0</td>\n",
       "      <td>1.0</td>\n",
       "      <td>15.00</td>\n",
       "      <td>...</td>\n",
       "      <td>0.0</td>\n",
       "      <td>0</td>\n",
       "      <td>0</td>\n",
       "      <td>0</td>\n",
       "      <td>0</td>\n",
       "      <td>0</td>\n",
       "      <td>0</td>\n",
       "      <td>0</td>\n",
       "      <td>0</td>\n",
       "      <td>0</td>\n",
       "    </tr>\n",
       "    <tr>\n",
       "      <th>...</th>\n",
       "      <td>...</td>\n",
       "      <td>...</td>\n",
       "      <td>...</td>\n",
       "      <td>...</td>\n",
       "      <td>...</td>\n",
       "      <td>...</td>\n",
       "      <td>...</td>\n",
       "      <td>...</td>\n",
       "      <td>...</td>\n",
       "      <td>...</td>\n",
       "      <td>...</td>\n",
       "      <td>...</td>\n",
       "      <td>...</td>\n",
       "      <td>...</td>\n",
       "      <td>...</td>\n",
       "      <td>...</td>\n",
       "      <td>...</td>\n",
       "      <td>...</td>\n",
       "      <td>...</td>\n",
       "      <td>...</td>\n",
       "      <td>...</td>\n",
       "    </tr>\n",
       "    <tr>\n",
       "      <th>851</th>\n",
       "      <td>851</td>\n",
       "      <td>34</td>\n",
       "      <td>3.0</td>\n",
       "      <td>18.0</td>\n",
       "      <td>0.0</td>\n",
       "      <td>0.0</td>\n",
       "      <td>0.0</td>\n",
       "      <td>0.0</td>\n",
       "      <td>0.0</td>\n",
       "      <td>0.00</td>\n",
       "      <td>...</td>\n",
       "      <td>0.0</td>\n",
       "      <td>0</td>\n",
       "      <td>0</td>\n",
       "      <td>0</td>\n",
       "      <td>0</td>\n",
       "      <td>0</td>\n",
       "      <td>0</td>\n",
       "      <td>0</td>\n",
       "      <td>0</td>\n",
       "      <td>0</td>\n",
       "    </tr>\n",
       "    <tr>\n",
       "      <th>852</th>\n",
       "      <td>852</td>\n",
       "      <td>32</td>\n",
       "      <td>2.0</td>\n",
       "      <td>19.0</td>\n",
       "      <td>1.0</td>\n",
       "      <td>0.0</td>\n",
       "      <td>0.0</td>\n",
       "      <td>0.0</td>\n",
       "      <td>1.0</td>\n",
       "      <td>8.00</td>\n",
       "      <td>...</td>\n",
       "      <td>0.0</td>\n",
       "      <td>0</td>\n",
       "      <td>0</td>\n",
       "      <td>0</td>\n",
       "      <td>0</td>\n",
       "      <td>0</td>\n",
       "      <td>0</td>\n",
       "      <td>0</td>\n",
       "      <td>0</td>\n",
       "      <td>0</td>\n",
       "    </tr>\n",
       "    <tr>\n",
       "      <th>853</th>\n",
       "      <td>853</td>\n",
       "      <td>25</td>\n",
       "      <td>2.0</td>\n",
       "      <td>17.0</td>\n",
       "      <td>0.0</td>\n",
       "      <td>0.0</td>\n",
       "      <td>0.0</td>\n",
       "      <td>0.0</td>\n",
       "      <td>1.0</td>\n",
       "      <td>0.08</td>\n",
       "      <td>...</td>\n",
       "      <td>0.0</td>\n",
       "      <td>0</td>\n",
       "      <td>0</td>\n",
       "      <td>0</td>\n",
       "      <td>0</td>\n",
       "      <td>0</td>\n",
       "      <td>0</td>\n",
       "      <td>0</td>\n",
       "      <td>1</td>\n",
       "      <td>0</td>\n",
       "    </tr>\n",
       "    <tr>\n",
       "      <th>854</th>\n",
       "      <td>854</td>\n",
       "      <td>33</td>\n",
       "      <td>2.0</td>\n",
       "      <td>24.0</td>\n",
       "      <td>2.0</td>\n",
       "      <td>0.0</td>\n",
       "      <td>0.0</td>\n",
       "      <td>0.0</td>\n",
       "      <td>1.0</td>\n",
       "      <td>0.08</td>\n",
       "      <td>...</td>\n",
       "      <td>0.0</td>\n",
       "      <td>0</td>\n",
       "      <td>0</td>\n",
       "      <td>0</td>\n",
       "      <td>0</td>\n",
       "      <td>0</td>\n",
       "      <td>0</td>\n",
       "      <td>0</td>\n",
       "      <td>0</td>\n",
       "      <td>0</td>\n",
       "    </tr>\n",
       "    <tr>\n",
       "      <th>855</th>\n",
       "      <td>855</td>\n",
       "      <td>29</td>\n",
       "      <td>2.0</td>\n",
       "      <td>20.0</td>\n",
       "      <td>1.0</td>\n",
       "      <td>0.0</td>\n",
       "      <td>0.0</td>\n",
       "      <td>0.0</td>\n",
       "      <td>1.0</td>\n",
       "      <td>0.50</td>\n",
       "      <td>...</td>\n",
       "      <td>0.0</td>\n",
       "      <td>0</td>\n",
       "      <td>0</td>\n",
       "      <td>0</td>\n",
       "      <td>0</td>\n",
       "      <td>0</td>\n",
       "      <td>0</td>\n",
       "      <td>0</td>\n",
       "      <td>0</td>\n",
       "      <td>0</td>\n",
       "    </tr>\n",
       "  </tbody>\n",
       "</table>\n",
       "<p>856 rows × 26 columns</p>\n",
       "</div>"
      ],
      "text/plain": [
       "     Unnamed: 0  Age  Number of sexual partners  First sexual intercourse  \\\n",
       "0             0   18                        4.0                      15.0   \n",
       "1             1   15                        1.0                      14.0   \n",
       "2             2   34                        1.0                      17.0   \n",
       "3             3   52                        5.0                      16.0   \n",
       "4             4   46                        3.0                      21.0   \n",
       "..          ...  ...                        ...                       ...   \n",
       "851         851   34                        3.0                      18.0   \n",
       "852         852   32                        2.0                      19.0   \n",
       "853         853   25                        2.0                      17.0   \n",
       "854         854   33                        2.0                      24.0   \n",
       "855         855   29                        2.0                      20.0   \n",
       "\n",
       "     Num of pregnancies  Smokes  Smokes (years)  Smokes (packs/year)  \\\n",
       "0                   1.0     0.0             0.0                  0.0   \n",
       "1                   1.0     0.0             0.0                  0.0   \n",
       "2                   1.0     0.0             0.0                  0.0   \n",
       "3                   4.0     1.0            37.0                 37.0   \n",
       "4                   4.0     0.0             0.0                  0.0   \n",
       "..                  ...     ...             ...                  ...   \n",
       "851                 0.0     0.0             0.0                  0.0   \n",
       "852                 1.0     0.0             0.0                  0.0   \n",
       "853                 0.0     0.0             0.0                  0.0   \n",
       "854                 2.0     0.0             0.0                  0.0   \n",
       "855                 1.0     0.0             0.0                  0.0   \n",
       "\n",
       "     Hormonal Contraceptives  Hormonal Contraceptives (years)  ...  STDs:HIV  \\\n",
       "0                        0.0                             0.00  ...       0.0   \n",
       "1                        0.0                             0.00  ...       0.0   \n",
       "2                        0.0                             0.00  ...       0.0   \n",
       "3                        1.0                             3.00  ...       0.0   \n",
       "4                        1.0                            15.00  ...       0.0   \n",
       "..                       ...                              ...  ...       ...   \n",
       "851                      0.0                             0.00  ...       0.0   \n",
       "852                      1.0                             8.00  ...       0.0   \n",
       "853                      1.0                             0.08  ...       0.0   \n",
       "854                      1.0                             0.08  ...       0.0   \n",
       "855                      1.0                             0.50  ...       0.0   \n",
       "\n",
       "     STDs: Number of diagnosis  Dx:Cancer  Dx:CIN  Dx:HPV  Dx  Hinselmann  \\\n",
       "0                            0          0       0       0   0           0   \n",
       "1                            0          0       0       0   0           0   \n",
       "2                            0          0       0       0   0           0   \n",
       "3                            0          1       0       1   0           0   \n",
       "4                            0          0       0       0   0           0   \n",
       "..                         ...        ...     ...     ...  ..         ...   \n",
       "851                          0          0       0       0   0           0   \n",
       "852                          0          0       0       0   0           0   \n",
       "853                          0          0       0       0   0           0   \n",
       "854                          0          0       0       0   0           0   \n",
       "855                          0          0       0       0   0           0   \n",
       "\n",
       "     Schiller  Citology  Biopsy  \n",
       "0           0         0       0  \n",
       "1           0         0       0  \n",
       "2           0         0       0  \n",
       "3           0         0       0  \n",
       "4           0         0       0  \n",
       "..        ...       ...     ...  \n",
       "851         0         0       0  \n",
       "852         0         0       0  \n",
       "853         0         1       0  \n",
       "854         0         0       0  \n",
       "855         0         0       0  \n",
       "\n",
       "[856 rows x 26 columns]"
      ]
     },
     "execution_count": 3,
     "metadata": {},
     "output_type": "execute_result"
    }
   ],
   "source": [
    "df"
   ]
  },
  {
   "cell_type": "code",
   "execution_count": 4,
   "id": "90e204b0",
   "metadata": {},
   "outputs": [],
   "source": [
    "df.drop('Unnamed: 0',inplace=True,axis=1)"
   ]
  },
  {
   "cell_type": "code",
   "execution_count": 5,
   "id": "f5e1a473",
   "metadata": {},
   "outputs": [
    {
     "data": {
      "text/html": [
       "<div>\n",
       "<style scoped>\n",
       "    .dataframe tbody tr th:only-of-type {\n",
       "        vertical-align: middle;\n",
       "    }\n",
       "\n",
       "    .dataframe tbody tr th {\n",
       "        vertical-align: top;\n",
       "    }\n",
       "\n",
       "    .dataframe thead th {\n",
       "        text-align: right;\n",
       "    }\n",
       "</style>\n",
       "<table border=\"1\" class=\"dataframe\">\n",
       "  <thead>\n",
       "    <tr style=\"text-align: right;\">\n",
       "      <th></th>\n",
       "      <th>Age</th>\n",
       "      <th>Number of sexual partners</th>\n",
       "      <th>First sexual intercourse</th>\n",
       "      <th>Num of pregnancies</th>\n",
       "      <th>Smokes</th>\n",
       "      <th>Smokes (years)</th>\n",
       "      <th>Smokes (packs/year)</th>\n",
       "      <th>Hormonal Contraceptives</th>\n",
       "      <th>Hormonal Contraceptives (years)</th>\n",
       "      <th>IUD</th>\n",
       "      <th>...</th>\n",
       "      <th>STDs:HIV</th>\n",
       "      <th>STDs: Number of diagnosis</th>\n",
       "      <th>Dx:Cancer</th>\n",
       "      <th>Dx:CIN</th>\n",
       "      <th>Dx:HPV</th>\n",
       "      <th>Dx</th>\n",
       "      <th>Hinselmann</th>\n",
       "      <th>Schiller</th>\n",
       "      <th>Citology</th>\n",
       "      <th>Biopsy</th>\n",
       "    </tr>\n",
       "  </thead>\n",
       "  <tbody>\n",
       "    <tr>\n",
       "      <th>0</th>\n",
       "      <td>18</td>\n",
       "      <td>4.0</td>\n",
       "      <td>15.0</td>\n",
       "      <td>1.0</td>\n",
       "      <td>0.0</td>\n",
       "      <td>0.0</td>\n",
       "      <td>0.0</td>\n",
       "      <td>0.0</td>\n",
       "      <td>0.00</td>\n",
       "      <td>0.0</td>\n",
       "      <td>...</td>\n",
       "      <td>0.0</td>\n",
       "      <td>0</td>\n",
       "      <td>0</td>\n",
       "      <td>0</td>\n",
       "      <td>0</td>\n",
       "      <td>0</td>\n",
       "      <td>0</td>\n",
       "      <td>0</td>\n",
       "      <td>0</td>\n",
       "      <td>0</td>\n",
       "    </tr>\n",
       "    <tr>\n",
       "      <th>1</th>\n",
       "      <td>15</td>\n",
       "      <td>1.0</td>\n",
       "      <td>14.0</td>\n",
       "      <td>1.0</td>\n",
       "      <td>0.0</td>\n",
       "      <td>0.0</td>\n",
       "      <td>0.0</td>\n",
       "      <td>0.0</td>\n",
       "      <td>0.00</td>\n",
       "      <td>0.0</td>\n",
       "      <td>...</td>\n",
       "      <td>0.0</td>\n",
       "      <td>0</td>\n",
       "      <td>0</td>\n",
       "      <td>0</td>\n",
       "      <td>0</td>\n",
       "      <td>0</td>\n",
       "      <td>0</td>\n",
       "      <td>0</td>\n",
       "      <td>0</td>\n",
       "      <td>0</td>\n",
       "    </tr>\n",
       "    <tr>\n",
       "      <th>2</th>\n",
       "      <td>34</td>\n",
       "      <td>1.0</td>\n",
       "      <td>17.0</td>\n",
       "      <td>1.0</td>\n",
       "      <td>0.0</td>\n",
       "      <td>0.0</td>\n",
       "      <td>0.0</td>\n",
       "      <td>0.0</td>\n",
       "      <td>0.00</td>\n",
       "      <td>0.0</td>\n",
       "      <td>...</td>\n",
       "      <td>0.0</td>\n",
       "      <td>0</td>\n",
       "      <td>0</td>\n",
       "      <td>0</td>\n",
       "      <td>0</td>\n",
       "      <td>0</td>\n",
       "      <td>0</td>\n",
       "      <td>0</td>\n",
       "      <td>0</td>\n",
       "      <td>0</td>\n",
       "    </tr>\n",
       "    <tr>\n",
       "      <th>3</th>\n",
       "      <td>52</td>\n",
       "      <td>5.0</td>\n",
       "      <td>16.0</td>\n",
       "      <td>4.0</td>\n",
       "      <td>1.0</td>\n",
       "      <td>37.0</td>\n",
       "      <td>37.0</td>\n",
       "      <td>1.0</td>\n",
       "      <td>3.00</td>\n",
       "      <td>0.0</td>\n",
       "      <td>...</td>\n",
       "      <td>0.0</td>\n",
       "      <td>0</td>\n",
       "      <td>1</td>\n",
       "      <td>0</td>\n",
       "      <td>1</td>\n",
       "      <td>0</td>\n",
       "      <td>0</td>\n",
       "      <td>0</td>\n",
       "      <td>0</td>\n",
       "      <td>0</td>\n",
       "    </tr>\n",
       "    <tr>\n",
       "      <th>4</th>\n",
       "      <td>46</td>\n",
       "      <td>3.0</td>\n",
       "      <td>21.0</td>\n",
       "      <td>4.0</td>\n",
       "      <td>0.0</td>\n",
       "      <td>0.0</td>\n",
       "      <td>0.0</td>\n",
       "      <td>1.0</td>\n",
       "      <td>15.00</td>\n",
       "      <td>0.0</td>\n",
       "      <td>...</td>\n",
       "      <td>0.0</td>\n",
       "      <td>0</td>\n",
       "      <td>0</td>\n",
       "      <td>0</td>\n",
       "      <td>0</td>\n",
       "      <td>0</td>\n",
       "      <td>0</td>\n",
       "      <td>0</td>\n",
       "      <td>0</td>\n",
       "      <td>0</td>\n",
       "    </tr>\n",
       "    <tr>\n",
       "      <th>...</th>\n",
       "      <td>...</td>\n",
       "      <td>...</td>\n",
       "      <td>...</td>\n",
       "      <td>...</td>\n",
       "      <td>...</td>\n",
       "      <td>...</td>\n",
       "      <td>...</td>\n",
       "      <td>...</td>\n",
       "      <td>...</td>\n",
       "      <td>...</td>\n",
       "      <td>...</td>\n",
       "      <td>...</td>\n",
       "      <td>...</td>\n",
       "      <td>...</td>\n",
       "      <td>...</td>\n",
       "      <td>...</td>\n",
       "      <td>...</td>\n",
       "      <td>...</td>\n",
       "      <td>...</td>\n",
       "      <td>...</td>\n",
       "      <td>...</td>\n",
       "    </tr>\n",
       "    <tr>\n",
       "      <th>851</th>\n",
       "      <td>34</td>\n",
       "      <td>3.0</td>\n",
       "      <td>18.0</td>\n",
       "      <td>0.0</td>\n",
       "      <td>0.0</td>\n",
       "      <td>0.0</td>\n",
       "      <td>0.0</td>\n",
       "      <td>0.0</td>\n",
       "      <td>0.00</td>\n",
       "      <td>0.0</td>\n",
       "      <td>...</td>\n",
       "      <td>0.0</td>\n",
       "      <td>0</td>\n",
       "      <td>0</td>\n",
       "      <td>0</td>\n",
       "      <td>0</td>\n",
       "      <td>0</td>\n",
       "      <td>0</td>\n",
       "      <td>0</td>\n",
       "      <td>0</td>\n",
       "      <td>0</td>\n",
       "    </tr>\n",
       "    <tr>\n",
       "      <th>852</th>\n",
       "      <td>32</td>\n",
       "      <td>2.0</td>\n",
       "      <td>19.0</td>\n",
       "      <td>1.0</td>\n",
       "      <td>0.0</td>\n",
       "      <td>0.0</td>\n",
       "      <td>0.0</td>\n",
       "      <td>1.0</td>\n",
       "      <td>8.00</td>\n",
       "      <td>0.0</td>\n",
       "      <td>...</td>\n",
       "      <td>0.0</td>\n",
       "      <td>0</td>\n",
       "      <td>0</td>\n",
       "      <td>0</td>\n",
       "      <td>0</td>\n",
       "      <td>0</td>\n",
       "      <td>0</td>\n",
       "      <td>0</td>\n",
       "      <td>0</td>\n",
       "      <td>0</td>\n",
       "    </tr>\n",
       "    <tr>\n",
       "      <th>853</th>\n",
       "      <td>25</td>\n",
       "      <td>2.0</td>\n",
       "      <td>17.0</td>\n",
       "      <td>0.0</td>\n",
       "      <td>0.0</td>\n",
       "      <td>0.0</td>\n",
       "      <td>0.0</td>\n",
       "      <td>1.0</td>\n",
       "      <td>0.08</td>\n",
       "      <td>0.0</td>\n",
       "      <td>...</td>\n",
       "      <td>0.0</td>\n",
       "      <td>0</td>\n",
       "      <td>0</td>\n",
       "      <td>0</td>\n",
       "      <td>0</td>\n",
       "      <td>0</td>\n",
       "      <td>0</td>\n",
       "      <td>0</td>\n",
       "      <td>1</td>\n",
       "      <td>0</td>\n",
       "    </tr>\n",
       "    <tr>\n",
       "      <th>854</th>\n",
       "      <td>33</td>\n",
       "      <td>2.0</td>\n",
       "      <td>24.0</td>\n",
       "      <td>2.0</td>\n",
       "      <td>0.0</td>\n",
       "      <td>0.0</td>\n",
       "      <td>0.0</td>\n",
       "      <td>1.0</td>\n",
       "      <td>0.08</td>\n",
       "      <td>0.0</td>\n",
       "      <td>...</td>\n",
       "      <td>0.0</td>\n",
       "      <td>0</td>\n",
       "      <td>0</td>\n",
       "      <td>0</td>\n",
       "      <td>0</td>\n",
       "      <td>0</td>\n",
       "      <td>0</td>\n",
       "      <td>0</td>\n",
       "      <td>0</td>\n",
       "      <td>0</td>\n",
       "    </tr>\n",
       "    <tr>\n",
       "      <th>855</th>\n",
       "      <td>29</td>\n",
       "      <td>2.0</td>\n",
       "      <td>20.0</td>\n",
       "      <td>1.0</td>\n",
       "      <td>0.0</td>\n",
       "      <td>0.0</td>\n",
       "      <td>0.0</td>\n",
       "      <td>1.0</td>\n",
       "      <td>0.50</td>\n",
       "      <td>0.0</td>\n",
       "      <td>...</td>\n",
       "      <td>0.0</td>\n",
       "      <td>0</td>\n",
       "      <td>0</td>\n",
       "      <td>0</td>\n",
       "      <td>0</td>\n",
       "      <td>0</td>\n",
       "      <td>0</td>\n",
       "      <td>0</td>\n",
       "      <td>0</td>\n",
       "      <td>0</td>\n",
       "    </tr>\n",
       "  </tbody>\n",
       "</table>\n",
       "<p>856 rows × 25 columns</p>\n",
       "</div>"
      ],
      "text/plain": [
       "     Age  Number of sexual partners  First sexual intercourse  \\\n",
       "0     18                        4.0                      15.0   \n",
       "1     15                        1.0                      14.0   \n",
       "2     34                        1.0                      17.0   \n",
       "3     52                        5.0                      16.0   \n",
       "4     46                        3.0                      21.0   \n",
       "..   ...                        ...                       ...   \n",
       "851   34                        3.0                      18.0   \n",
       "852   32                        2.0                      19.0   \n",
       "853   25                        2.0                      17.0   \n",
       "854   33                        2.0                      24.0   \n",
       "855   29                        2.0                      20.0   \n",
       "\n",
       "     Num of pregnancies  Smokes  Smokes (years)  Smokes (packs/year)  \\\n",
       "0                   1.0     0.0             0.0                  0.0   \n",
       "1                   1.0     0.0             0.0                  0.0   \n",
       "2                   1.0     0.0             0.0                  0.0   \n",
       "3                   4.0     1.0            37.0                 37.0   \n",
       "4                   4.0     0.0             0.0                  0.0   \n",
       "..                  ...     ...             ...                  ...   \n",
       "851                 0.0     0.0             0.0                  0.0   \n",
       "852                 1.0     0.0             0.0                  0.0   \n",
       "853                 0.0     0.0             0.0                  0.0   \n",
       "854                 2.0     0.0             0.0                  0.0   \n",
       "855                 1.0     0.0             0.0                  0.0   \n",
       "\n",
       "     Hormonal Contraceptives  Hormonal Contraceptives (years)  IUD  ...  \\\n",
       "0                        0.0                             0.00  0.0  ...   \n",
       "1                        0.0                             0.00  0.0  ...   \n",
       "2                        0.0                             0.00  0.0  ...   \n",
       "3                        1.0                             3.00  0.0  ...   \n",
       "4                        1.0                            15.00  0.0  ...   \n",
       "..                       ...                              ...  ...  ...   \n",
       "851                      0.0                             0.00  0.0  ...   \n",
       "852                      1.0                             8.00  0.0  ...   \n",
       "853                      1.0                             0.08  0.0  ...   \n",
       "854                      1.0                             0.08  0.0  ...   \n",
       "855                      1.0                             0.50  0.0  ...   \n",
       "\n",
       "     STDs:HIV  STDs: Number of diagnosis  Dx:Cancer  Dx:CIN  Dx:HPV  Dx  \\\n",
       "0         0.0                          0          0       0       0   0   \n",
       "1         0.0                          0          0       0       0   0   \n",
       "2         0.0                          0          0       0       0   0   \n",
       "3         0.0                          0          1       0       1   0   \n",
       "4         0.0                          0          0       0       0   0   \n",
       "..        ...                        ...        ...     ...     ...  ..   \n",
       "851       0.0                          0          0       0       0   0   \n",
       "852       0.0                          0          0       0       0   0   \n",
       "853       0.0                          0          0       0       0   0   \n",
       "854       0.0                          0          0       0       0   0   \n",
       "855       0.0                          0          0       0       0   0   \n",
       "\n",
       "     Hinselmann  Schiller  Citology  Biopsy  \n",
       "0             0         0         0       0  \n",
       "1             0         0         0       0  \n",
       "2             0         0         0       0  \n",
       "3             0         0         0       0  \n",
       "4             0         0         0       0  \n",
       "..          ...       ...       ...     ...  \n",
       "851           0         0         0       0  \n",
       "852           0         0         0       0  \n",
       "853           0         0         1       0  \n",
       "854           0         0         0       0  \n",
       "855           0         0         0       0  \n",
       "\n",
       "[856 rows x 25 columns]"
      ]
     },
     "execution_count": 5,
     "metadata": {},
     "output_type": "execute_result"
    }
   ],
   "source": [
    "df"
   ]
  },
  {
   "cell_type": "code",
   "execution_count": 6,
   "id": "018a48b1",
   "metadata": {},
   "outputs": [
    {
     "data": {
      "text/plain": [
       "44"
      ]
     },
     "execution_count": 6,
     "metadata": {},
     "output_type": "execute_result"
    }
   ],
   "source": [
    "len(df[df['Citology']==1])"
   ]
  },
  {
   "cell_type": "code",
   "execution_count": 7,
   "id": "cd0af845",
   "metadata": {},
   "outputs": [
    {
     "data": {
      "text/plain": [
       "0.0514018691588785"
      ]
     },
     "execution_count": 7,
     "metadata": {},
     "output_type": "execute_result"
    }
   ],
   "source": [
    "len(df[df['Citology']==1])/len(df)"
   ]
  },
  {
   "cell_type": "code",
   "execution_count": 8,
   "id": "1a9ffc6a",
   "metadata": {},
   "outputs": [
    {
     "name": "stdout",
     "output_type": "stream",
     "text": [
      "Counter({0: 812, 1: 44})\n",
      "Counter({0: 812, 1: 812})\n"
     ]
    },
    {
     "data": {
      "text/plain": [
       "<matplotlib.legend.Legend at 0x1f9d5726e20>"
      ]
     },
     "execution_count": 8,
     "metadata": {},
     "output_type": "execute_result"
    },
    {
     "data": {
      "image/png": "[encoded data removed]",
      "text/plain": [
       "<Figure size 432x288 with 1 Axes>"
      ]
     },
     "metadata": {
      "needs_background": "light"
     },
     "output_type": "display_data"
    }
   ],
   "source": [
    "# borderline-SMOTE for imbalanced dataset\n",
    "from collections import Counter\n",
    "from sklearn.datasets import make_classification\n",
    "from imblearn.over_sampling import BorderlineSMOTE\n",
    "from matplotlib import pyplot\n",
    "from numpy import where\n",
    "# define dataset\n",
    "X = df.drop(['Hinselmann','Schiller','Citology','Biopsy'],axis=1).values\n",
    "y = df['Citology'].values\n",
    "# summarize class distribution\n",
    "counter = Counter(y)\n",
    "print(counter)\n",
    "# transform the dataset\n",
    "oversample = BorderlineSMOTE()\n",
    "X, y = oversample.fit_resample(X, y)\n",
    "# summarize the new class distribution\n",
    "counter = Counter(y)\n",
    "print(counter)\n",
    "# scatter plot of examples by class label\n",
    "for label, _ in counter.items():\n",
    "    row_ix = where(y == label)[0]\n",
    "    pyplot.scatter(X[row_ix, 0], X[row_ix, 1], label=str(label))\n",
    "pyplot.legend()"
   ]
  },
  {
   "cell_type": "code",
   "execution_count": 9,
   "id": "643766a9",
   "metadata": {},
   "outputs": [],
   "source": [
    "from sklearn.tree import DecisionTreeClassifier\n",
    "from sklearn.svm import SVC\n",
    "from sklearn.neighbors import KNeighborsClassifier\n",
    "from sklearn.linear_model import LogisticRegression\n",
    "from sklearn.ensemble import RandomForestClassifier\n",
    "from sklearn.model_selection import cross_val_score\n",
    "from sklearn.model_selection import GridSearchCV\n",
    "from sklearn.naive_bayes import GaussianNB\n",
    "from sklearn.metrics import accuracy_score, confusion_matrix, classification_report\n",
    "import xgboost as xgb\n",
    "from sklearn.ensemble import ExtraTreesClassifier\n",
    "from sklearn.feature_selection import SelectFromModel"
   ]
  },
  {
   "cell_type": "code",
   "execution_count": 10,
   "id": "55f72bf7",
   "metadata": {},
   "outputs": [],
   "source": [
    "from sklearn.model_selection import train_test_split"
   ]
  },
  {
   "cell_type": "code",
   "execution_count": 11,
   "id": "1ec6f892",
   "metadata": {},
   "outputs": [
    {
     "data": {
      "text/plain": [
       "array([0.14720756, 0.13737306, 0.12918807, 0.12462616, 0.02279317,\n",
       "       0.01870262, 0.0123764 , 0.14751924, 0.09483259, 0.0367461 ,\n",
       "       0.02471913, 0.01318606, 0.00583814, 0.00628318, 0.00213975,\n",
       "       0.002041  , 0.00859832, 0.02243706, 0.00231926, 0.02431522,\n",
       "       0.01675793])"
      ]
     },
     "execution_count": 11,
     "metadata": {},
     "output_type": "execute_result"
    }
   ],
   "source": [
    "clf = ExtraTreesClassifier(n_estimators=50)\n",
    "clf = clf.fit(X, y)\n",
    "clf.feature_importances_"
   ]
  },
  {
   "cell_type": "code",
   "execution_count": 12,
   "id": "51f84c51",
   "metadata": {},
   "outputs": [
    {
     "data": {
      "text/plain": [
       "Index(['Age', 'Number of sexual partners', 'First sexual intercourse',\n",
       "       'Num of pregnancies', 'Smokes', 'Smokes (years)', 'Smokes (packs/year)',\n",
       "       'Hormonal Contraceptives', 'Hormonal Contraceptives (years)', 'IUD',\n",
       "       'IUD (years)', 'STDs', 'STDs (number)', 'STDs:condylomatosis',\n",
       "       'STDs:syphilis', 'STDs:HIV', 'STDs: Number of diagnosis', 'Dx:Cancer',\n",
       "       'Dx:CIN', 'Dx:HPV', 'Dx', 'Hinselmann', 'Schiller', 'Citology',\n",
       "       'Biopsy'],\n",
       "      dtype='object')"
      ]
     },
     "execution_count": 12,
     "metadata": {},
     "output_type": "execute_result"
    }
   ],
   "source": [
    "df.columns"
   ]
  },
  {
   "cell_type": "code",
   "execution_count": 13,
   "id": "a79e1c1a",
   "metadata": {},
   "outputs": [],
   "source": [
    "features = ['Age', 'Number of sexual partners', 'First sexual intercourse',\n",
    "       'Num of pregnancies', 'Smokes', 'Smokes (years)', 'Smokes (packs/year)',\n",
    "       'Hormonal Contraceptives', 'Hormonal Contraceptives (years)', 'IUD',\n",
    "       'IUD (years)', 'STDs', 'STDs (number)', 'STDs:condylomatosis',\n",
    "       'STDs:syphilis', 'STDs:HIV', 'STDs: Number of diagnosis', 'Dx:Cancer',\n",
    "       'Dx:CIN', 'Dx:HPV', 'Dx']"
   ]
  },
  {
   "cell_type": "code",
   "execution_count": 14,
   "id": "57856bc6",
   "metadata": {},
   "outputs": [],
   "source": [
    "feat_importances = pd.Series(clf.feature_importances_, index=features)"
   ]
  },
  {
   "cell_type": "code",
   "execution_count": 15,
   "id": "aa7e944b",
   "metadata": {},
   "outputs": [
    {
     "data": {
      "text/plain": [
       "Dx:CIN                             0.003008\n",
       "STDs:syphilis                      0.006621\n",
       "Dx                                 0.010880\n",
       "STDs:HIV                           0.019148\n",
       "STDs:condylomatosis                0.022728\n",
       "STDs (number)                      0.023516\n",
       "STDs: Number of diagnosis          0.025027\n",
       "Smokes (packs/year)                0.025540\n",
       "Smokes (years)                     0.027518\n",
       "IUD (years)                        0.030547\n",
       "STDs                               0.031521\n",
       "Dx:Cancer                          0.033346\n",
       "Smokes                             0.033907\n",
       "Dx:HPV                             0.034871\n",
       "IUD                                0.050725\n",
       "Num of pregnancies                 0.084102\n",
       "First sexual intercourse           0.095038\n",
       "Hormonal Contraceptives            0.103173\n",
       "Hormonal Contraceptives (years)    0.104473\n",
       "Number of sexual partners          0.113174\n",
       "Age                                0.121137\n",
       "dtype: float64"
      ]
     },
     "execution_count": 15,
     "metadata": {},
     "output_type": "execute_result"
    }
   ],
   "source": [
    "feat_importances.sort_values()"
   ]
  },
  {
   "cell_type": "code",
   "execution_count": 16,
   "id": "78f0e479",
   "metadata": {},
   "outputs": [
    {
     "data": {
      "text/plain": [
       "<AxesSubplot:>"
      ]
     },
     "execution_count": 16,
     "metadata": {},
     "output_type": "execute_result"
    },
    {
     "data": {
      "image/png": "[encoded data removed]",
      "text/plain": [
       "<Figure size 432x288 with 1 Axes>"
      ]
     },
     "metadata": {
      "needs_background": "light"
     },
     "output_type": "display_data"
    }
   ],
   "source": [
    "feat_importances.nlargest(10).plot(kind='barh')"
   ]
  },
  {
   "cell_type": "code",
   "execution_count": 17,
   "id": "5b712511",
   "metadata": {},
   "outputs": [],
   "source": [
    "model = SelectFromModel(clf, prefit=True)"
   ]
  },
  {
   "cell_type": "code",
   "execution_count": 18,
   "id": "aed41f3c",
   "metadata": {},
   "outputs": [],
   "source": [
    "X_new = model.transform(X)"
   ]
  },
  {
   "cell_type": "code",
   "execution_count": 19,
   "id": "702393e7",
   "metadata": {},
   "outputs": [
    {
     "data": {
      "text/plain": [
       "(1564, 7)"
      ]
     },
     "execution_count": 19,
     "metadata": {},
     "output_type": "execute_result"
    }
   ],
   "source": [
    "X_new.shape"
   ]
  },
  {
   "cell_type": "code",
   "execution_count": 20,
   "id": "94402e32",
   "metadata": {},
   "outputs": [],
   "source": [
    "X_train, X_test, y_train, y_test = train_test_split(X_new, y, test_size=0.2, random_state=101)"
   ]
  },
  {
   "cell_type": "markdown",
   "id": "9e2c8e1f",
   "metadata": {},
   "source": [
    "# Buidling Model before Feature Selection"
   ]
  },
  {
   "cell_type": "markdown",
   "id": "3cd42d86",
   "metadata": {},
   "source": [
    "### Logistic Regression"
   ]
  },
  {
   "cell_type": "code",
   "execution_count": 21,
   "id": "0b045ec5",
   "metadata": {},
   "outputs": [],
   "source": [
    "logmodel = LogisticRegression(max_iter=10000)"
   ]
  },
  {
   "cell_type": "code",
   "execution_count": 22,
   "id": "ab0197fa",
   "metadata": {},
   "outputs": [
    {
     "data": {
      "text/plain": [
       "LogisticRegression(max_iter=10000)"
      ]
     },
     "execution_count": 22,
     "metadata": {},
     "output_type": "execute_result"
    }
   ],
   "source": [
    "logmodel.fit(X_train,y_train)"
   ]
  },
  {
   "cell_type": "code",
   "execution_count": 23,
   "id": "badb65fc",
   "metadata": {},
   "outputs": [],
   "source": [
    "predictions = logmodel.predict(X_test)"
   ]
  },
  {
   "cell_type": "code",
   "execution_count": 24,
   "id": "f32b17ae",
   "metadata": {},
   "outputs": [
    {
     "data": {
      "text/plain": [
       "array([0, 1, 1, 0, 1, 1, 0, 1, 1, 1, 0, 0, 0, 0, 0, 1, 0, 0, 0, 0, 1, 1,\n",
       "       1, 0, 0, 0, 1, 1, 1, 1, 0, 0, 1, 0, 1, 0, 0, 0, 1, 1, 1, 0, 1, 0,\n",
       "       1, 1, 1, 0, 0, 0, 0, 1, 1, 1, 0, 1, 1, 0, 0, 1, 0, 0, 1, 0, 0, 0,\n",
       "       0, 0, 0, 1, 0, 0, 1, 1, 1, 1, 1, 0, 0, 0, 0, 0, 0, 1, 0, 0, 1, 1,\n",
       "       0, 1, 0, 0, 1, 0, 1, 0, 0, 1, 1, 1, 0, 0, 1, 1, 0, 1, 0, 1, 0, 1,\n",
       "       0, 1, 1, 0, 0, 0, 0, 1, 1, 1, 0, 1, 1, 1, 0, 0, 1, 0, 0, 0, 0, 1,\n",
       "       1, 0, 0, 0, 1, 1, 0, 0, 0, 1, 1, 0, 0, 0, 0, 0, 0, 0, 0, 0, 0, 0,\n",
       "       0, 1, 0, 0, 1, 0, 0, 1, 1, 1, 1, 0, 0, 1, 0, 1, 1, 0, 0, 1, 1, 1,\n",
       "       0, 1, 1, 1, 0, 0, 0, 0, 1, 1, 1, 0, 0, 0, 0, 1, 0, 1, 1, 1, 1, 1,\n",
       "       0, 0, 1, 1, 1, 1, 0, 1, 1, 1, 0, 0, 0, 0, 0, 1, 1, 1, 1, 1, 1, 1,\n",
       "       0, 0, 1, 0, 1, 1, 1, 1, 1, 1, 0, 0, 1, 0, 1, 0, 1, 0, 1, 0, 0, 1,\n",
       "       1, 1, 0, 0, 1, 1, 1, 0, 1, 1, 1, 0, 0, 0, 0, 0, 0, 0, 0, 1, 0, 1,\n",
       "       1, 0, 1, 0, 0, 1, 1, 0, 0, 1, 1, 1, 0, 0, 0, 1, 0, 1, 1, 0, 1, 0,\n",
       "       0, 0, 0, 1, 0, 1, 0, 1, 0, 0, 1, 0, 1, 0, 0, 1, 1, 0, 1, 1, 1, 0,\n",
       "       1, 1, 0, 1, 1], dtype=int64)"
      ]
     },
     "execution_count": 24,
     "metadata": {},
     "output_type": "execute_result"
    }
   ],
   "source": [
    "predictions"
   ]
  },
  {
   "cell_type": "code",
   "execution_count": 25,
   "id": "5617920f",
   "metadata": {},
   "outputs": [
    {
     "name": "stdout",
     "output_type": "stream",
     "text": [
      "Accuracy:  0.670926517571885\n",
      "\n",
      "\n",
      "              precision    recall  f1-score   support\n",
      "\n",
      "           0       0.69      0.68      0.69       165\n",
      "           1       0.65      0.66      0.66       148\n",
      "\n",
      "    accuracy                           0.67       313\n",
      "   macro avg       0.67      0.67      0.67       313\n",
      "weighted avg       0.67      0.67      0.67       313\n",
      "\n",
      "\n",
      "\n",
      "[[112  53]\n",
      " [ 50  98]]\n"
     ]
    }
   ],
   "source": [
    "print(\"Accuracy: \", accuracy_score(y_test,predictions))\n",
    "print(\"\\n\")\n",
    "print(classification_report(y_test,predictions))\n",
    "print(\"\\n\")\n",
    "print(confusion_matrix(y_test,predictions))"
   ]
  },
  {
   "cell_type": "markdown",
   "id": "968c0147",
   "metadata": {},
   "source": [
    "### KNN"
   ]
  },
  {
   "cell_type": "code",
   "execution_count": 26,
   "id": "e2fa3645",
   "metadata": {},
   "outputs": [],
   "source": [
    "error_rate = []\n",
    "\n",
    "for i in range(1,40):\n",
    "    knn = KNeighborsClassifier(n_neighbors=i)\n",
    "    knn.fit(X_train,y_train)\n",
    "    pred_i = knn.predict(X_test)\n",
    "    error_rate.append(np.mean(pred_i != y_test))"
   ]
  },
  {
   "cell_type": "code",
   "execution_count": 27,
   "id": "4edbd871",
   "metadata": {},
   "outputs": [
    {
     "data": {
      "text/plain": [
       "Text(0, 0.5, 'Error Rate')"
      ]
     },
     "execution_count": 27,
     "metadata": {},
     "output_type": "execute_result"
    },
    {
     "data": {
      "image/png": "[encoded data removed]",
      "text/plain": [
       "<Figure size 720x432 with 1 Axes>"
      ]
     },
     "metadata": {
      "needs_background": "light"
     },
     "output_type": "display_data"
    }
   ],
   "source": [
    "plt.figure(figsize=(10,6))\n",
    "plt.plot(range(1,40),error_rate,color='blue',linestyle='--',marker='o',markerfacecolor='red',markersize=10)\n",
    "plt.title('Error Rate vs K value')\n",
    "plt.xlabel('K')\n",
    "plt.ylabel('Error Rate')"
   ]
  },
  {
   "cell_type": "code",
   "execution_count": 28,
   "id": "aee3a839",
   "metadata": {},
   "outputs": [],
   "source": [
    "knn = KNeighborsClassifier(n_neighbors=2)\n",
    "knn.fit(X_train,y_train)\n",
    "predictions = knn.predict(X_test)"
   ]
  },
  {
   "cell_type": "code",
   "execution_count": 29,
   "id": "86a48fc9",
   "metadata": {},
   "outputs": [
    {
     "name": "stdout",
     "output_type": "stream",
     "text": [
      "Accuracy Score: 0.8466453674121406\n",
      "\n",
      "\n",
      "              precision    recall  f1-score   support\n",
      "\n",
      "           0       0.89      0.81      0.85       165\n",
      "           1       0.80      0.89      0.85       148\n",
      "\n",
      "    accuracy                           0.85       313\n",
      "   macro avg       0.85      0.85      0.85       313\n",
      "weighted avg       0.85      0.85      0.85       313\n",
      "\n",
      "\n",
      "\n",
      "[[133  32]\n",
      " [ 16 132]]\n"
     ]
    }
   ],
   "source": [
    "print('Accuracy Score:',accuracy_score(y_test,predictions))\n",
    "print('\\n')\n",
    "print(classification_report(y_test,predictions))\n",
    "print('\\n')\n",
    "print(confusion_matrix(y_test,predictions))"
   ]
  },
  {
   "cell_type": "markdown",
   "id": "edd79d40",
   "metadata": {},
   "source": [
    "### Decision Tree"
   ]
  },
  {
   "cell_type": "code",
   "execution_count": 30,
   "id": "5340d022",
   "metadata": {},
   "outputs": [],
   "source": [
    "dtree = DecisionTreeClassifier()"
   ]
  },
  {
   "cell_type": "code",
   "execution_count": 31,
   "id": "630062ec",
   "metadata": {},
   "outputs": [
    {
     "data": {
      "text/plain": [
       "DecisionTreeClassifier()"
      ]
     },
     "execution_count": 31,
     "metadata": {},
     "output_type": "execute_result"
    }
   ],
   "source": [
    "dtree.fit(X_train,y_train)"
   ]
  },
  {
   "cell_type": "code",
   "execution_count": 32,
   "id": "7ffdf4bb",
   "metadata": {},
   "outputs": [],
   "source": [
    "predictions = dtree.predict(X_test)"
   ]
  },
  {
   "cell_type": "code",
   "execution_count": 33,
   "id": "692d5681",
   "metadata": {},
   "outputs": [
    {
     "name": "stdout",
     "output_type": "stream",
     "text": [
      "Accuracy:  0.8913738019169329\n",
      "\n",
      "\n",
      "              precision    recall  f1-score   support\n",
      "\n",
      "           0       0.92      0.87      0.89       165\n",
      "           1       0.87      0.91      0.89       148\n",
      "\n",
      "    accuracy                           0.89       313\n",
      "   macro avg       0.89      0.89      0.89       313\n",
      "weighted avg       0.89      0.89      0.89       313\n",
      "\n",
      "\n",
      "\n",
      "[[144  21]\n",
      " [ 13 135]]\n"
     ]
    }
   ],
   "source": [
    "print(\"Accuracy: \", accuracy_score(y_test,predictions))\n",
    "print(\"\\n\")\n",
    "print(classification_report(y_test,predictions))\n",
    "print(\"\\n\")\n",
    "print(confusion_matrix(y_test,predictions))"
   ]
  },
  {
   "cell_type": "markdown",
   "id": "3c3d9ff5",
   "metadata": {},
   "source": [
    "### Random Forest"
   ]
  },
  {
   "cell_type": "code",
   "execution_count": 34,
   "id": "416c07d0",
   "metadata": {},
   "outputs": [],
   "source": [
    "rfc = RandomForestClassifier(n_estimators=200)"
   ]
  },
  {
   "cell_type": "code",
   "execution_count": 35,
   "id": "09d61f88",
   "metadata": {},
   "outputs": [
    {
     "data": {
      "text/plain": [
       "RandomForestClassifier(n_estimators=200)"
      ]
     },
     "execution_count": 35,
     "metadata": {},
     "output_type": "execute_result"
    }
   ],
   "source": [
    "rfc.fit(X_train,y_train)"
   ]
  },
  {
   "cell_type": "code",
   "execution_count": 36,
   "id": "77603047",
   "metadata": {},
   "outputs": [],
   "source": [
    "predictions = rfc.predict(X_test)"
   ]
  },
  {
   "cell_type": "code",
   "execution_count": 37,
   "id": "69b7b8d0",
   "metadata": {},
   "outputs": [
    {
     "name": "stdout",
     "output_type": "stream",
     "text": [
      "Accuracy:  0.952076677316294\n",
      "\n",
      "\n",
      "              precision    recall  f1-score   support\n",
      "\n",
      "           0       0.95      0.96      0.95       165\n",
      "           1       0.96      0.94      0.95       148\n",
      "\n",
      "    accuracy                           0.95       313\n",
      "   macro avg       0.95      0.95      0.95       313\n",
      "weighted avg       0.95      0.95      0.95       313\n",
      "\n",
      "\n",
      "\n",
      "[[159   6]\n",
      " [  9 139]]\n"
     ]
    }
   ],
   "source": [
    "print(\"Accuracy: \", accuracy_score(y_test,predictions))\n",
    "print(\"\\n\")\n",
    "print(classification_report(y_test,predictions))\n",
    "print(\"\\n\")\n",
    "print(confusion_matrix(y_test,predictions))"
   ]
  },
  {
   "cell_type": "markdown",
   "id": "29f910a8",
   "metadata": {},
   "source": [
    "### Support Vector Machine"
   ]
  },
  {
   "cell_type": "code",
   "execution_count": 38,
   "id": "70b2fd48",
   "metadata": {},
   "outputs": [],
   "source": [
    "model = SVC()"
   ]
  },
  {
   "cell_type": "code",
   "execution_count": 39,
   "id": "fc005442",
   "metadata": {},
   "outputs": [
    {
     "data": {
      "text/plain": [
       "SVC()"
      ]
     },
     "execution_count": 39,
     "metadata": {},
     "output_type": "execute_result"
    }
   ],
   "source": [
    "model.fit(X_train,y_train)"
   ]
  },
  {
   "cell_type": "code",
   "execution_count": 40,
   "id": "07a8de58",
   "metadata": {},
   "outputs": [],
   "source": [
    "predictions = model.predict(X_test)"
   ]
  },
  {
   "cell_type": "code",
   "execution_count": 41,
   "id": "dfff3b21",
   "metadata": {},
   "outputs": [
    {
     "name": "stdout",
     "output_type": "stream",
     "text": [
      "Accuracy:  0.6389776357827476\n",
      "\n",
      "\n",
      "              precision    recall  f1-score   support\n",
      "\n",
      "           0       0.65      0.68      0.66       165\n",
      "           1       0.62      0.59      0.61       148\n",
      "\n",
      "    accuracy                           0.64       313\n",
      "   macro avg       0.64      0.64      0.64       313\n",
      "weighted avg       0.64      0.64      0.64       313\n",
      "\n",
      "\n",
      "\n",
      "[[112  53]\n",
      " [ 60  88]]\n"
     ]
    }
   ],
   "source": [
    "print(\"Accuracy: \", accuracy_score(y_test,predictions))\n",
    "print(\"\\n\")\n",
    "print(classification_report(y_test,predictions))\n",
    "print(\"\\n\")\n",
    "print(confusion_matrix(y_test,predictions))"
   ]
  },
  {
   "cell_type": "markdown",
   "id": "91ffbc0e",
   "metadata": {},
   "source": [
    "### Grid Search CV"
   ]
  },
  {
   "cell_type": "code",
   "execution_count": 42,
   "id": "cd425ff6",
   "metadata": {},
   "outputs": [],
   "source": [
    "param_grid = {'C':[0.1,1,10,100,1000],'gamma':[1,0.1,0.01,0.001,0.0001]}"
   ]
  },
  {
   "cell_type": "code",
   "execution_count": 43,
   "id": "5137eb0f",
   "metadata": {},
   "outputs": [],
   "source": [
    "grid = GridSearchCV(SVC(),param_grid,verbose=3)"
   ]
  },
  {
   "cell_type": "code",
   "execution_count": 44,
   "id": "02388d91",
   "metadata": {},
   "outputs": [
    {
     "name": "stdout",
     "output_type": "stream",
     "text": [
      "Fitting 5 folds for each of 25 candidates, totalling 125 fits\n",
      "[CV 1/5] END .................................C=0.1, gamma=1; total time=   0.0s\n",
      "[CV 2/5] END .................................C=0.1, gamma=1; total time=   0.0s\n",
      "[CV 3/5] END .................................C=0.1, gamma=1; total time=   0.0s\n",
      "[CV 4/5] END .................................C=0.1, gamma=1; total time=   0.0s\n",
      "[CV 5/5] END .................................C=0.1, gamma=1; total time=   0.0s\n",
      "[CV 1/5] END ...............................C=0.1, gamma=0.1; total time=   0.0s\n",
      "[CV 2/5] END ...............................C=0.1, gamma=0.1; total time=   0.0s\n",
      "[CV 3/5] END ...............................C=0.1, gamma=0.1; total time=   0.0s\n",
      "[CV 4/5] END ...............................C=0.1, gamma=0.1; total time=   0.0s\n",
      "[CV 5/5] END ...............................C=0.1, gamma=0.1; total time=   0.0s\n",
      "[CV 1/5] END ..............................C=0.1, gamma=0.01; total time=   0.0s\n",
      "[CV 2/5] END ..............................C=0.1, gamma=0.01; total time=   0.0s\n",
      "[CV 3/5] END ..............................C=0.1, gamma=0.01; total time=   0.0s\n",
      "[CV 4/5] END ..............................C=0.1, gamma=0.01; total time=   0.0s\n",
      "[CV 5/5] END ..............................C=0.1, gamma=0.01; total time=   0.0s\n",
      "[CV 1/5] END .............................C=0.1, gamma=0.001; total time=   0.0s\n",
      "[CV 2/5] END .............................C=0.1, gamma=0.001; total time=   0.0s\n",
      "[CV 3/5] END .............................C=0.1, gamma=0.001; total time=   0.0s\n",
      "[CV 4/5] END .............................C=0.1, gamma=0.001; total time=   0.0s\n",
      "[CV 5/5] END .............................C=0.1, gamma=0.001; total time=   0.0s\n",
      "[CV 1/5] END ............................C=0.1, gamma=0.0001; total time=   0.0s\n",
      "[CV 2/5] END ............................C=0.1, gamma=0.0001; total time=   0.0s\n",
      "[CV 3/5] END ............................C=0.1, gamma=0.0001; total time=   0.0s\n",
      "[CV 4/5] END ............................C=0.1, gamma=0.0001; total time=   0.0s\n",
      "[CV 5/5] END ............................C=0.1, gamma=0.0001; total time=   0.0s\n",
      "[CV 1/5] END ...................................C=1, gamma=1; total time=   0.0s\n",
      "[CV 2/5] END ...................................C=1, gamma=1; total time=   0.0s\n",
      "[CV 3/5] END ...................................C=1, gamma=1; total time=   0.0s\n",
      "[CV 4/5] END ...................................C=1, gamma=1; total time=   0.0s\n",
      "[CV 5/5] END ...................................C=1, gamma=1; total time=   0.0s\n",
      "[CV 1/5] END .................................C=1, gamma=0.1; total time=   0.0s\n",
      "[CV 2/5] END .................................C=1, gamma=0.1; total time=   0.0s\n",
      "[CV 3/5] END .................................C=1, gamma=0.1; total time=   0.0s\n",
      "[CV 4/5] END .................................C=1, gamma=0.1; total time=   0.0s\n",
      "[CV 5/5] END .................................C=1, gamma=0.1; total time=   0.0s\n",
      "[CV 1/5] END ................................C=1, gamma=0.01; total time=   0.0s\n",
      "[CV 2/5] END ................................C=1, gamma=0.01; total time=   0.0s\n",
      "[CV 3/5] END ................................C=1, gamma=0.01; total time=   0.0s\n",
      "[CV 4/5] END ................................C=1, gamma=0.01; total time=   0.0s\n",
      "[CV 5/5] END ................................C=1, gamma=0.01; total time=   0.0s\n",
      "[CV 1/5] END ...............................C=1, gamma=0.001; total time=   0.0s\n",
      "[CV 2/5] END ...............................C=1, gamma=0.001; total time=   0.0s\n",
      "[CV 3/5] END ...............................C=1, gamma=0.001; total time=   0.0s\n",
      "[CV 4/5] END ...............................C=1, gamma=0.001; total time=   0.0s\n",
      "[CV 5/5] END ...............................C=1, gamma=0.001; total time=   0.0s\n",
      "[CV 1/5] END ..............................C=1, gamma=0.0001; total time=   0.0s\n",
      "[CV 2/5] END ..............................C=1, gamma=0.0001; total time=   0.0s\n",
      "[CV 3/5] END ..............................C=1, gamma=0.0001; total time=   0.0s\n",
      "[CV 4/5] END ..............................C=1, gamma=0.0001; total time=   0.0s\n",
      "[CV 5/5] END ..............................C=1, gamma=0.0001; total time=   0.0s\n",
      "[CV 1/5] END ..................................C=10, gamma=1; total time=   0.0s\n",
      "[CV 2/5] END ..................................C=10, gamma=1; total time=   0.0s\n",
      "[CV 3/5] END ..................................C=10, gamma=1; total time=   0.0s\n",
      "[CV 4/5] END ..................................C=10, gamma=1; total time=   0.0s\n",
      "[CV 5/5] END ..................................C=10, gamma=1; total time=   0.0s\n",
      "[CV 1/5] END ................................C=10, gamma=0.1; total time=   0.0s\n",
      "[CV 2/5] END ................................C=10, gamma=0.1; total time=   0.0s\n",
      "[CV 3/5] END ................................C=10, gamma=0.1; total time=   0.0s\n",
      "[CV 4/5] END ................................C=10, gamma=0.1; total time=   0.0s\n",
      "[CV 5/5] END ................................C=10, gamma=0.1; total time=   0.0s\n",
      "[CV 1/5] END ...............................C=10, gamma=0.01; total time=   0.0s\n",
      "[CV 2/5] END ...............................C=10, gamma=0.01; total time=   0.0s\n",
      "[CV 3/5] END ...............................C=10, gamma=0.01; total time=   0.0s\n",
      "[CV 4/5] END ...............................C=10, gamma=0.01; total time=   0.0s\n",
      "[CV 5/5] END ...............................C=10, gamma=0.01; total time=   0.0s\n",
      "[CV 1/5] END ..............................C=10, gamma=0.001; total time=   0.0s\n",
      "[CV 2/5] END ..............................C=10, gamma=0.001; total time=   0.0s\n",
      "[CV 3/5] END ..............................C=10, gamma=0.001; total time=   0.0s\n",
      "[CV 4/5] END ..............................C=10, gamma=0.001; total time=   0.0s\n",
      "[CV 5/5] END ..............................C=10, gamma=0.001; total time=   0.0s\n",
      "[CV 1/5] END .............................C=10, gamma=0.0001; total time=   0.0s\n",
      "[CV 2/5] END .............................C=10, gamma=0.0001; total time=   0.0s\n",
      "[CV 3/5] END .............................C=10, gamma=0.0001; total time=   0.0s\n",
      "[CV 4/5] END .............................C=10, gamma=0.0001; total time=   0.0s\n",
      "[CV 5/5] END .............................C=10, gamma=0.0001; total time=   0.0s\n",
      "[CV 1/5] END .................................C=100, gamma=1; total time=   0.0s\n",
      "[CV 2/5] END .................................C=100, gamma=1; total time=   0.0s\n",
      "[CV 3/5] END .................................C=100, gamma=1; total time=   0.0s\n",
      "[CV 4/5] END .................................C=100, gamma=1; total time=   0.0s\n",
      "[CV 5/5] END .................................C=100, gamma=1; total time=   0.0s\n",
      "[CV 1/5] END ...............................C=100, gamma=0.1; total time=   0.0s\n",
      "[CV 2/5] END ...............................C=100, gamma=0.1; total time=   0.0s\n",
      "[CV 3/5] END ...............................C=100, gamma=0.1; total time=   0.0s\n",
      "[CV 4/5] END ...............................C=100, gamma=0.1; total time=   0.0s\n",
      "[CV 5/5] END ...............................C=100, gamma=0.1; total time=   0.0s\n",
      "[CV 1/5] END ..............................C=100, gamma=0.01; total time=   0.0s\n",
      "[CV 2/5] END ..............................C=100, gamma=0.01; total time=   0.0s\n",
      "[CV 3/5] END ..............................C=100, gamma=0.01; total time=   0.0s\n",
      "[CV 4/5] END ..............................C=100, gamma=0.01; total time=   0.0s\n",
      "[CV 5/5] END ..............................C=100, gamma=0.01; total time=   0.0s\n",
      "[CV 1/5] END .............................C=100, gamma=0.001; total time=   0.0s\n",
      "[CV 2/5] END .............................C=100, gamma=0.001; total time=   0.0s\n",
      "[CV 3/5] END .............................C=100, gamma=0.001; total time=   0.0s\n",
      "[CV 4/5] END .............................C=100, gamma=0.001; total time=   0.0s\n",
      "[CV 5/5] END .............................C=100, gamma=0.001; total time=   0.0s\n",
      "[CV 1/5] END ............................C=100, gamma=0.0001; total time=   0.0s\n",
      "[CV 2/5] END ............................C=100, gamma=0.0001; total time=   0.0s\n",
      "[CV 3/5] END ............................C=100, gamma=0.0001; total time=   0.0s\n",
      "[CV 4/5] END ............................C=100, gamma=0.0001; total time=   0.0s\n",
      "[CV 5/5] END ............................C=100, gamma=0.0001; total time=   0.0s\n",
      "[CV 1/5] END ................................C=1000, gamma=1; total time=   0.0s\n",
      "[CV 2/5] END ................................C=1000, gamma=1; total time=   0.0s\n",
      "[CV 3/5] END ................................C=1000, gamma=1; total time=   0.0s\n",
      "[CV 4/5] END ................................C=1000, gamma=1; total time=   0.0s\n"
     ]
    },
    {
     "name": "stdout",
     "output_type": "stream",
     "text": [
      "[CV 5/5] END ................................C=1000, gamma=1; total time=   0.0s\n",
      "[CV 1/5] END ..............................C=1000, gamma=0.1; total time=   0.0s\n",
      "[CV 2/5] END ..............................C=1000, gamma=0.1; total time=   0.0s\n",
      "[CV 3/5] END ..............................C=1000, gamma=0.1; total time=   0.0s\n",
      "[CV 4/5] END ..............................C=1000, gamma=0.1; total time=   0.0s\n",
      "[CV 5/5] END ..............................C=1000, gamma=0.1; total time=   0.0s\n",
      "[CV 1/5] END .............................C=1000, gamma=0.01; total time=   0.1s\n",
      "[CV 2/5] END .............................C=1000, gamma=0.01; total time=   0.1s\n",
      "[CV 3/5] END .............................C=1000, gamma=0.01; total time=   0.1s\n",
      "[CV 4/5] END .............................C=1000, gamma=0.01; total time=   0.0s\n",
      "[CV 5/5] END .............................C=1000, gamma=0.01; total time=   0.1s\n",
      "[CV 1/5] END ............................C=1000, gamma=0.001; total time=   0.0s\n",
      "[CV 2/5] END ............................C=1000, gamma=0.001; total time=   0.0s\n",
      "[CV 3/5] END ............................C=1000, gamma=0.001; total time=   0.0s\n",
      "[CV 4/5] END ............................C=1000, gamma=0.001; total time=   0.0s\n",
      "[CV 5/5] END ............................C=1000, gamma=0.001; total time=   0.0s\n",
      "[CV 1/5] END ...........................C=1000, gamma=0.0001; total time=   0.0s\n",
      "[CV 2/5] END ...........................C=1000, gamma=0.0001; total time=   0.0s\n",
      "[CV 3/5] END ...........................C=1000, gamma=0.0001; total time=   0.0s\n",
      "[CV 4/5] END ...........................C=1000, gamma=0.0001; total time=   0.0s\n",
      "[CV 5/5] END ...........................C=1000, gamma=0.0001; total time=   0.0s\n"
     ]
    },
    {
     "data": {
      "text/plain": [
       "GridSearchCV(estimator=SVC(),\n",
       "             param_grid={'C': [0.1, 1, 10, 100, 1000],\n",
       "                         'gamma': [1, 0.1, 0.01, 0.001, 0.0001]},\n",
       "             verbose=3)"
      ]
     },
     "execution_count": 44,
     "metadata": {},
     "output_type": "execute_result"
    }
   ],
   "source": [
    "grid.fit(X_train,y_train)"
   ]
  },
  {
   "cell_type": "code",
   "execution_count": 45,
   "id": "418259df",
   "metadata": {},
   "outputs": [
    {
     "data": {
      "text/plain": [
       "SVC(C=1000, gamma=1)"
      ]
     },
     "execution_count": 45,
     "metadata": {},
     "output_type": "execute_result"
    }
   ],
   "source": [
    "grid.best_estimator_"
   ]
  },
  {
   "cell_type": "code",
   "execution_count": 46,
   "id": "65d3da04",
   "metadata": {},
   "outputs": [
    {
     "data": {
      "text/plain": [
       "{'C': 1000, 'gamma': 1}"
      ]
     },
     "execution_count": 46,
     "metadata": {},
     "output_type": "execute_result"
    }
   ],
   "source": [
    "grid.best_params_"
   ]
  },
  {
   "cell_type": "code",
   "execution_count": 47,
   "id": "e0cfa6f9",
   "metadata": {},
   "outputs": [
    {
     "data": {
      "text/plain": [
       "0.9032796812749003"
      ]
     },
     "execution_count": 47,
     "metadata": {},
     "output_type": "execute_result"
    }
   ],
   "source": [
    "grid.best_score_"
   ]
  },
  {
   "cell_type": "code",
   "execution_count": 48,
   "id": "99ac22e4",
   "metadata": {},
   "outputs": [],
   "source": [
    "predictions = grid.predict(X_test)"
   ]
  },
  {
   "cell_type": "code",
   "execution_count": 49,
   "id": "3e713653",
   "metadata": {},
   "outputs": [
    {
     "name": "stdout",
     "output_type": "stream",
     "text": [
      "Accuracy:  0.8817891373801917\n",
      "\n",
      "\n",
      "              precision    recall  f1-score   support\n",
      "\n",
      "           0       0.84      0.96      0.90       165\n",
      "           1       0.94      0.80      0.86       148\n",
      "\n",
      "    accuracy                           0.88       313\n",
      "   macro avg       0.89      0.88      0.88       313\n",
      "weighted avg       0.89      0.88      0.88       313\n",
      "\n",
      "\n",
      "\n",
      "[[158   7]\n",
      " [ 30 118]]\n"
     ]
    }
   ],
   "source": [
    "print(\"Accuracy: \", accuracy_score(y_test,predictions))\n",
    "print(\"\\n\")\n",
    "print(classification_report(y_test,predictions))\n",
    "print(\"\\n\")\n",
    "print(confusion_matrix(y_test,predictions))"
   ]
  },
  {
   "cell_type": "markdown",
   "id": "f3f53095",
   "metadata": {},
   "source": [
    "### Naive Bayes"
   ]
  },
  {
   "cell_type": "code",
   "execution_count": 50,
   "id": "7910acfc",
   "metadata": {},
   "outputs": [],
   "source": [
    "gnb = GaussianNB()"
   ]
  },
  {
   "cell_type": "code",
   "execution_count": 51,
   "id": "2d685338",
   "metadata": {},
   "outputs": [
    {
     "data": {
      "text/plain": [
       "GaussianNB()"
      ]
     },
     "execution_count": 51,
     "metadata": {},
     "output_type": "execute_result"
    }
   ],
   "source": [
    "gnb.fit(X_train,y_train)"
   ]
  },
  {
   "cell_type": "code",
   "execution_count": 52,
   "id": "b6d2f914",
   "metadata": {},
   "outputs": [],
   "source": [
    "predictions = gnb.predict(X_test)"
   ]
  },
  {
   "cell_type": "code",
   "execution_count": 53,
   "id": "3a97e180",
   "metadata": {},
   "outputs": [
    {
     "name": "stdout",
     "output_type": "stream",
     "text": [
      "Accuracy Score: 0.6613418530351438\n",
      "\n",
      "\n",
      "              precision    recall  f1-score   support\n",
      "\n",
      "           0       0.66      0.75      0.70       165\n",
      "           1       0.67      0.56      0.61       148\n",
      "\n",
      "    accuracy                           0.66       313\n",
      "   macro avg       0.66      0.66      0.66       313\n",
      "weighted avg       0.66      0.66      0.66       313\n",
      "\n",
      "\n",
      "\n",
      "[[124  41]\n",
      " [ 65  83]]\n"
     ]
    }
   ],
   "source": [
    "print('Accuracy Score:',accuracy_score(y_test,predictions))\n",
    "print('\\n')\n",
    "print(classification_report(y_test,predictions))\n",
    "print('\\n')\n",
    "print(confusion_matrix(y_test,predictions))"
   ]
  },
  {
   "cell_type": "markdown",
   "id": "e1df9e65",
   "metadata": {},
   "source": [
    "### XGBoost"
   ]
  },
  {
   "cell_type": "code",
   "execution_count": 54,
   "id": "762afada",
   "metadata": {},
   "outputs": [],
   "source": [
    "xgb_cl = xgb.XGBClassifier()"
   ]
  },
  {
   "cell_type": "code",
   "execution_count": 55,
   "id": "f1ef895b",
   "metadata": {},
   "outputs": [
    {
     "data": {
      "text/plain": [
       "XGBClassifier(base_score=0.5, booster='gbtree', callbacks=None,\n",
       "              colsample_bylevel=1, colsample_bynode=1, colsample_bytree=1,\n",
       "              early_stopping_rounds=None, enable_categorical=False,\n",
       "              eval_metric=None, gamma=0, gpu_id=-1, grow_policy='depthwise',\n",
       "              importance_type=None, interaction_constraints='',\n",
       "              learning_rate=0.300000012, max_bin=256, max_cat_to_onehot=4,\n",
       "              max_delta_step=0, max_depth=6, max_leaves=0, min_child_weight=1,\n",
       "              missing=nan, monotone_constraints='()', n_estimators=100,\n",
       "              n_jobs=0, num_parallel_tree=1, predictor='auto', random_state=0,\n",
       "              reg_alpha=0, reg_lambda=1, ...)"
      ]
     },
     "execution_count": 55,
     "metadata": {},
     "output_type": "execute_result"
    }
   ],
   "source": [
    "xgb_cl.fit(X_train, y_train)"
   ]
  },
  {
   "cell_type": "code",
   "execution_count": 56,
   "id": "f45f7ec1",
   "metadata": {},
   "outputs": [],
   "source": [
    "predictions = xgb_cl.predict(X_test)"
   ]
  },
  {
   "cell_type": "code",
   "execution_count": 57,
   "id": "80d2a68a",
   "metadata": {
    "scrolled": false
   },
   "outputs": [
    {
     "name": "stdout",
     "output_type": "stream",
     "text": [
      "Accuracy Score: 0.952076677316294\n",
      "\n",
      "\n",
      "              precision    recall  f1-score   support\n",
      "\n",
      "           0       0.95      0.96      0.95       165\n",
      "           1       0.96      0.94      0.95       148\n",
      "\n",
      "    accuracy                           0.95       313\n",
      "   macro avg       0.95      0.95      0.95       313\n",
      "weighted avg       0.95      0.95      0.95       313\n",
      "\n",
      "\n",
      "\n",
      "[[159   6]\n",
      " [  9 139]]\n"
     ]
    }
   ],
   "source": [
    "print('Accuracy Score:',accuracy_score(y_test,predictions))\n",
    "print('\\n')\n",
    "print(classification_report(y_test,predictions))\n",
    "print('\\n')\n",
    "print(confusion_matrix(y_test,predictions))"
   ]
  },
  {
   "cell_type": "markdown",
   "id": "41fa1cd7",
   "metadata": {},
   "source": [
    "### Neural Network"
   ]
  },
  {
   "cell_type": "code",
   "execution_count": 58,
   "id": "7a7038c7",
   "metadata": {},
   "outputs": [],
   "source": [
    "import tensorflow as tf\n",
    "from tensorflow.keras.models import Sequential\n",
    "from tensorflow.keras.layers import Dense, Activation, Dropout\n",
    "from tensorflow.keras.callbacks import EarlyStopping"
   ]
  },
  {
   "cell_type": "code",
   "execution_count": 59,
   "id": "694e71d8",
   "metadata": {},
   "outputs": [],
   "source": [
    "model = Sequential()\n",
    "\n",
    "# input layer\n",
    "model.add(Dense(units=9,activation='relu'))\n",
    "model.add(Dropout(0.5))\n",
    "\n",
    "# hidden layer\n",
    "model.add(Dense(units=5,activation='relu'))\n",
    "model.add(Dropout(0.5))\n",
    "\n",
    "# output layer\n",
    "model.add(Dense(units=1,activation='sigmoid'))\n",
    "\n",
    "# compiler\n",
    "model.compile(loss='binary_crossentropy', optimizer='adam')"
   ]
  },
  {
   "cell_type": "code",
   "execution_count": 60,
   "id": "018ba478",
   "metadata": {},
   "outputs": [],
   "source": [
    "early_stop = EarlyStopping(monitor='val_loss',mode='min',verbose=1,patience=25)"
   ]
  },
  {
   "cell_type": "code",
   "execution_count": 61,
   "id": "8a7cb99b",
   "metadata": {},
   "outputs": [
    {
     "name": "stdout",
     "output_type": "stream",
     "text": [
      "Epoch 1/600\n",
      "40/40 [==============================] - 1s 5ms/step - loss: 1.9736 - val_loss: 0.8039\n",
      "Epoch 2/600\n",
      "40/40 [==============================] - 0s 2ms/step - loss: 1.5481 - val_loss: 0.7218\n",
      "Epoch 3/600\n",
      "40/40 [==============================] - 0s 2ms/step - loss: 1.1463 - val_loss: 0.6972\n",
      "Epoch 4/600\n",
      "40/40 [==============================] - 0s 2ms/step - loss: 0.9488 - val_loss: 0.6930\n",
      "Epoch 5/600\n",
      "40/40 [==============================] - 0s 2ms/step - loss: 0.8825 - val_loss: 0.6916\n",
      "Epoch 6/600\n",
      "40/40 [==============================] - 0s 2ms/step - loss: 0.8217 - val_loss: 0.6912\n",
      "Epoch 7/600\n",
      "40/40 [==============================] - 0s 2ms/step - loss: 0.7702 - val_loss: 0.6910\n",
      "Epoch 8/600\n",
      "40/40 [==============================] - 0s 2ms/step - loss: 0.7398 - val_loss: 0.6910\n",
      "Epoch 9/600\n",
      "40/40 [==============================] - 0s 2ms/step - loss: 0.7321 - val_loss: 0.6911\n",
      "Epoch 10/600\n",
      "40/40 [==============================] - 0s 2ms/step - loss: 0.7146 - val_loss: 0.6912\n",
      "Epoch 11/600\n",
      "40/40 [==============================] - 0s 2ms/step - loss: 0.7141 - val_loss: 0.6911\n",
      "Epoch 12/600\n",
      "40/40 [==============================] - 0s 2ms/step - loss: 0.7097 - val_loss: 0.6910\n",
      "Epoch 13/600\n",
      "40/40 [==============================] - 0s 2ms/step - loss: 0.7012 - val_loss: 0.6909\n",
      "Epoch 14/600\n",
      "40/40 [==============================] - 0s 2ms/step - loss: 0.7061 - val_loss: 0.6907\n",
      "Epoch 15/600\n",
      "40/40 [==============================] - 0s 2ms/step - loss: 0.6983 - val_loss: 0.6907\n",
      "Epoch 16/600\n",
      "40/40 [==============================] - 0s 2ms/step - loss: 0.7002 - val_loss: 0.6904\n",
      "Epoch 17/600\n",
      "40/40 [==============================] - 0s 2ms/step - loss: 0.6943 - val_loss: 0.6903\n",
      "Epoch 18/600\n",
      "40/40 [==============================] - 0s 2ms/step - loss: 0.6969 - val_loss: 0.6900\n",
      "Epoch 19/600\n",
      "40/40 [==============================] - 0s 2ms/step - loss: 0.6930 - val_loss: 0.6899\n",
      "Epoch 20/600\n",
      "40/40 [==============================] - 0s 2ms/step - loss: 0.6969 - val_loss: 0.6898\n",
      "Epoch 21/600\n",
      "40/40 [==============================] - 0s 2ms/step - loss: 0.6946 - val_loss: 0.6895\n",
      "Epoch 22/600\n",
      "40/40 [==============================] - 0s 2ms/step - loss: 0.6891 - val_loss: 0.6891\n",
      "Epoch 23/600\n",
      "40/40 [==============================] - 0s 2ms/step - loss: 0.6937 - val_loss: 0.6898\n",
      "Epoch 24/600\n",
      "40/40 [==============================] - 0s 2ms/step - loss: 0.6941 - val_loss: 0.6896\n",
      "Epoch 25/600\n",
      "40/40 [==============================] - 0s 2ms/step - loss: 0.6825 - val_loss: 0.6889\n",
      "Epoch 26/600\n",
      "40/40 [==============================] - 0s 2ms/step - loss: 0.6941 - val_loss: 0.6885\n",
      "Epoch 27/600\n",
      "40/40 [==============================] - 0s 1ms/step - loss: 0.6920 - val_loss: 0.6886\n",
      "Epoch 28/600\n",
      "40/40 [==============================] - 0s 2ms/step - loss: 0.6868 - val_loss: 0.6884\n",
      "Epoch 29/600\n",
      "40/40 [==============================] - 0s 2ms/step - loss: 0.6899 - val_loss: 0.6886\n",
      "Epoch 30/600\n",
      "40/40 [==============================] - 0s 2ms/step - loss: 0.6922 - val_loss: 0.6887\n",
      "Epoch 31/600\n",
      "40/40 [==============================] - 0s 2ms/step - loss: 0.6848 - val_loss: 0.6889\n",
      "Epoch 32/600\n",
      "40/40 [==============================] - 0s 2ms/step - loss: 0.6860 - val_loss: 0.6889\n",
      "Epoch 33/600\n",
      "40/40 [==============================] - 0s 2ms/step - loss: 0.6858 - val_loss: 0.6881\n",
      "Epoch 34/600\n",
      "40/40 [==============================] - 0s 2ms/step - loss: 0.6899 - val_loss: 0.6875\n",
      "Epoch 35/600\n",
      "40/40 [==============================] - 0s 2ms/step - loss: 0.6820 - val_loss: 0.6867\n",
      "Epoch 36/600\n",
      "40/40 [==============================] - 0s 2ms/step - loss: 0.6871 - val_loss: 0.6867\n",
      "Epoch 37/600\n",
      "40/40 [==============================] - 0s 2ms/step - loss: 0.6851 - val_loss: 0.6864\n",
      "Epoch 38/600\n",
      "40/40 [==============================] - 0s 2ms/step - loss: 0.6831 - val_loss: 0.6861\n",
      "Epoch 39/600\n",
      "40/40 [==============================] - 0s 2ms/step - loss: 0.6831 - val_loss: 0.6853\n",
      "Epoch 40/600\n",
      "40/40 [==============================] - 0s 2ms/step - loss: 0.6827 - val_loss: 0.6854\n",
      "Epoch 41/600\n",
      "40/40 [==============================] - 0s 2ms/step - loss: 0.6822 - val_loss: 0.6856\n",
      "Epoch 42/600\n",
      "40/40 [==============================] - 0s 3ms/step - loss: 0.6852 - val_loss: 0.6857\n",
      "Epoch 43/600\n",
      "40/40 [==============================] - 0s 2ms/step - loss: 0.6877 - val_loss: 0.6860\n",
      "Epoch 44/600\n",
      "40/40 [==============================] - 0s 2ms/step - loss: 0.6805 - val_loss: 0.6852\n",
      "Epoch 45/600\n",
      "40/40 [==============================] - 0s 2ms/step - loss: 0.6781 - val_loss: 0.6841\n",
      "Epoch 46/600\n",
      "40/40 [==============================] - 0s 2ms/step - loss: 0.6817 - val_loss: 0.6841\n",
      "Epoch 47/600\n",
      "40/40 [==============================] - 0s 2ms/step - loss: 0.6857 - val_loss: 0.6853\n",
      "Epoch 48/600\n",
      "40/40 [==============================] - 0s 2ms/step - loss: 0.6751 - val_loss: 0.6842\n",
      "Epoch 49/600\n",
      "40/40 [==============================] - 0s 2ms/step - loss: 0.6882 - val_loss: 0.6844\n",
      "Epoch 50/600\n",
      "40/40 [==============================] - 0s 2ms/step - loss: 0.6780 - val_loss: 0.6837\n",
      "Epoch 51/600\n",
      "40/40 [==============================] - 0s 2ms/step - loss: 0.6863 - val_loss: 0.6846\n",
      "Epoch 52/600\n",
      "40/40 [==============================] - 0s 2ms/step - loss: 0.6838 - val_loss: 0.6843\n",
      "Epoch 53/600\n",
      "40/40 [==============================] - 0s 2ms/step - loss: 0.6755 - val_loss: 0.6839\n",
      "Epoch 54/600\n",
      "40/40 [==============================] - 0s 2ms/step - loss: 0.6873 - val_loss: 0.6844\n",
      "Epoch 55/600\n",
      "40/40 [==============================] - 0s 1ms/step - loss: 0.6833 - val_loss: 0.6850\n",
      "Epoch 56/600\n",
      "40/40 [==============================] - 0s 2ms/step - loss: 0.6835 - val_loss: 0.6859\n",
      "Epoch 57/600\n",
      "40/40 [==============================] - 0s 2ms/step - loss: 0.6783 - val_loss: 0.6847\n",
      "Epoch 58/600\n",
      "40/40 [==============================] - 0s 1ms/step - loss: 0.6803 - val_loss: 0.6849\n",
      "Epoch 59/600\n",
      "40/40 [==============================] - 0s 1ms/step - loss: 0.6811 - val_loss: 0.6848\n",
      "Epoch 60/600\n",
      "40/40 [==============================] - 0s 1ms/step - loss: 0.6775 - val_loss: 0.6840\n",
      "Epoch 61/600\n",
      "40/40 [==============================] - 0s 1ms/step - loss: 0.6734 - val_loss: 0.6828\n",
      "Epoch 62/600\n",
      "40/40 [==============================] - 0s 1ms/step - loss: 0.6824 - val_loss: 0.6837\n",
      "Epoch 63/600\n",
      "40/40 [==============================] - 0s 1ms/step - loss: 0.6816 - val_loss: 0.6839\n",
      "Epoch 64/600\n",
      "40/40 [==============================] - 0s 2ms/step - loss: 0.6899 - val_loss: 0.6846\n",
      "Epoch 65/600\n",
      "40/40 [==============================] - 0s 2ms/step - loss: 0.6829 - val_loss: 0.6846\n",
      "Epoch 66/600\n",
      "40/40 [==============================] - 0s 2ms/step - loss: 0.6782 - val_loss: 0.6842\n",
      "Epoch 67/600\n",
      "40/40 [==============================] - 0s 2ms/step - loss: 0.6754 - val_loss: 0.6821\n",
      "Epoch 68/600\n",
      "40/40 [==============================] - 0s 2ms/step - loss: 0.6819 - val_loss: 0.6824\n",
      "Epoch 69/600\n",
      "40/40 [==============================] - 0s 2ms/step - loss: 0.6774 - val_loss: 0.6830\n",
      "Epoch 70/600\n",
      "40/40 [==============================] - 0s 2ms/step - loss: 0.6868 - val_loss: 0.6838\n",
      "Epoch 71/600\n",
      "40/40 [==============================] - 0s 2ms/step - loss: 0.6786 - val_loss: 0.6837\n",
      "Epoch 72/600\n",
      "40/40 [==============================] - 0s 2ms/step - loss: 0.6808 - val_loss: 0.6832\n",
      "Epoch 73/600\n",
      "40/40 [==============================] - 0s 2ms/step - loss: 0.6756 - val_loss: 0.6817\n",
      "Epoch 74/600\n",
      "40/40 [==============================] - 0s 1ms/step - loss: 0.6817 - val_loss: 0.6833\n",
      "Epoch 75/600\n",
      "40/40 [==============================] - 0s 1ms/step - loss: 0.6748 - val_loss: 0.6821\n",
      "Epoch 76/600\n",
      "40/40 [==============================] - 0s 1ms/step - loss: 0.6800 - val_loss: 0.6824\n",
      "Epoch 77/600\n",
      "40/40 [==============================] - 0s 1ms/step - loss: 0.6843 - val_loss: 0.6836\n",
      "Epoch 78/600\n",
      "40/40 [==============================] - 0s 1ms/step - loss: 0.6775 - val_loss: 0.6830\n",
      "Epoch 79/600\n",
      "40/40 [==============================] - 0s 2ms/step - loss: 0.6834 - val_loss: 0.6831\n",
      "Epoch 80/600\n",
      "40/40 [==============================] - 0s 2ms/step - loss: 0.6733 - val_loss: 0.6814\n",
      "Epoch 81/600\n",
      "40/40 [==============================] - 0s 1ms/step - loss: 0.6794 - val_loss: 0.6812\n",
      "Epoch 82/600\n",
      "40/40 [==============================] - 0s 1ms/step - loss: 0.6792 - val_loss: 0.6810\n",
      "Epoch 83/600\n"
     ]
    },
    {
     "name": "stdout",
     "output_type": "stream",
     "text": [
      "40/40 [==============================] - 0s 2ms/step - loss: 0.6788 - val_loss: 0.6802\n",
      "Epoch 84/600\n",
      "40/40 [==============================] - 0s 2ms/step - loss: 0.6854 - val_loss: 0.6821\n",
      "Epoch 85/600\n",
      "40/40 [==============================] - 0s 2ms/step - loss: 0.6806 - val_loss: 0.6810\n",
      "Epoch 86/600\n",
      "40/40 [==============================] - 0s 2ms/step - loss: 0.6810 - val_loss: 0.6806\n",
      "Epoch 87/600\n",
      "40/40 [==============================] - 0s 2ms/step - loss: 0.6755 - val_loss: 0.6808\n",
      "Epoch 88/600\n",
      "40/40 [==============================] - 0s 2ms/step - loss: 0.6792 - val_loss: 0.6804\n",
      "Epoch 89/600\n",
      "40/40 [==============================] - 0s 2ms/step - loss: 0.6820 - val_loss: 0.6808\n",
      "Epoch 90/600\n",
      "40/40 [==============================] - 0s 2ms/step - loss: 0.6839 - val_loss: 0.6810\n",
      "Epoch 91/600\n",
      "40/40 [==============================] - 0s 1ms/step - loss: 0.6742 - val_loss: 0.6795\n",
      "Epoch 92/600\n",
      "40/40 [==============================] - 0s 1ms/step - loss: 0.6739 - val_loss: 0.6797\n",
      "Epoch 93/600\n",
      "40/40 [==============================] - 0s 2ms/step - loss: 0.6731 - val_loss: 0.6793\n",
      "Epoch 94/600\n",
      "40/40 [==============================] - 0s 2ms/step - loss: 0.6820 - val_loss: 0.6798\n",
      "Epoch 95/600\n",
      "40/40 [==============================] - 0s 2ms/step - loss: 0.6859 - val_loss: 0.6816\n",
      "Epoch 96/600\n",
      "40/40 [==============================] - 0s 1ms/step - loss: 0.6821 - val_loss: 0.6825\n",
      "Epoch 97/600\n",
      "40/40 [==============================] - 0s 1ms/step - loss: 0.6764 - val_loss: 0.6813\n",
      "Epoch 98/600\n",
      "40/40 [==============================] - 0s 2ms/step - loss: 0.6733 - val_loss: 0.6807\n",
      "Epoch 99/600\n",
      "40/40 [==============================] - 0s 2ms/step - loss: 0.6787 - val_loss: 0.6795\n",
      "Epoch 100/600\n",
      "40/40 [==============================] - 0s 2ms/step - loss: 0.6816 - val_loss: 0.6794\n",
      "Epoch 101/600\n",
      "40/40 [==============================] - 0s 2ms/step - loss: 0.6731 - val_loss: 0.6793\n",
      "Epoch 102/600\n",
      "40/40 [==============================] - 0s 2ms/step - loss: 0.6760 - val_loss: 0.6788\n",
      "Epoch 103/600\n",
      "40/40 [==============================] - 0s 2ms/step - loss: 0.6731 - val_loss: 0.6775\n",
      "Epoch 104/600\n",
      "40/40 [==============================] - 0s 2ms/step - loss: 0.6746 - val_loss: 0.6766\n",
      "Epoch 105/600\n",
      "40/40 [==============================] - 0s 2ms/step - loss: 0.6771 - val_loss: 0.6784\n",
      "Epoch 106/600\n",
      "40/40 [==============================] - 0s 2ms/step - loss: 0.6785 - val_loss: 0.6790\n",
      "Epoch 107/600\n",
      "40/40 [==============================] - 0s 2ms/step - loss: 0.6709 - val_loss: 0.6774\n",
      "Epoch 108/600\n",
      "40/40 [==============================] - 0s 2ms/step - loss: 0.6745 - val_loss: 0.6774\n",
      "Epoch 109/600\n",
      "40/40 [==============================] - 0s 2ms/step - loss: 0.6742 - val_loss: 0.6772\n",
      "Epoch 110/600\n",
      "40/40 [==============================] - 0s 2ms/step - loss: 0.6743 - val_loss: 0.6774\n",
      "Epoch 111/600\n",
      "40/40 [==============================] - 0s 2ms/step - loss: 0.6737 - val_loss: 0.6768\n",
      "Epoch 112/600\n",
      "40/40 [==============================] - 0s 2ms/step - loss: 0.6809 - val_loss: 0.6769\n",
      "Epoch 113/600\n",
      "40/40 [==============================] - 0s 2ms/step - loss: 0.6833 - val_loss: 0.6781\n",
      "Epoch 114/600\n",
      "40/40 [==============================] - 0s 2ms/step - loss: 0.6825 - val_loss: 0.6789\n",
      "Epoch 115/600\n",
      "40/40 [==============================] - 0s 1ms/step - loss: 0.6725 - val_loss: 0.6782\n",
      "Epoch 116/600\n",
      "40/40 [==============================] - 0s 1ms/step - loss: 0.6824 - val_loss: 0.6784\n",
      "Epoch 117/600\n",
      "40/40 [==============================] - 0s 2ms/step - loss: 0.6787 - val_loss: 0.6796\n",
      "Epoch 118/600\n",
      "40/40 [==============================] - 0s 2ms/step - loss: 0.6712 - val_loss: 0.6781\n",
      "Epoch 119/600\n",
      "40/40 [==============================] - 0s 2ms/step - loss: 0.6760 - val_loss: 0.6776\n",
      "Epoch 120/600\n",
      "40/40 [==============================] - 0s 2ms/step - loss: 0.6800 - val_loss: 0.6775\n",
      "Epoch 121/600\n",
      "40/40 [==============================] - 0s 2ms/step - loss: 0.6742 - val_loss: 0.6775\n",
      "Epoch 122/600\n",
      "40/40 [==============================] - 0s 2ms/step - loss: 0.6751 - val_loss: 0.6779\n",
      "Epoch 123/600\n",
      "40/40 [==============================] - 0s 2ms/step - loss: 0.6707 - val_loss: 0.6756\n",
      "Epoch 124/600\n",
      "40/40 [==============================] - 0s 2ms/step - loss: 0.6669 - val_loss: 0.6751\n",
      "Epoch 125/600\n",
      "40/40 [==============================] - 0s 1ms/step - loss: 0.6761 - val_loss: 0.6750\n",
      "Epoch 126/600\n",
      "40/40 [==============================] - 0s 1ms/step - loss: 0.6791 - val_loss: 0.6759\n",
      "Epoch 127/600\n",
      "40/40 [==============================] - 0s 1ms/step - loss: 0.6774 - val_loss: 0.6763\n",
      "Epoch 128/600\n",
      "40/40 [==============================] - 0s 1ms/step - loss: 0.6759 - val_loss: 0.6765\n",
      "Epoch 129/600\n",
      "40/40 [==============================] - 0s 1ms/step - loss: 0.6741 - val_loss: 0.6769\n",
      "Epoch 130/600\n",
      "40/40 [==============================] - 0s 2ms/step - loss: 0.6737 - val_loss: 0.6753\n",
      "Epoch 131/600\n",
      "40/40 [==============================] - 0s 2ms/step - loss: 0.6790 - val_loss: 0.6760\n",
      "Epoch 132/600\n",
      "40/40 [==============================] - 0s 1ms/step - loss: 0.6675 - val_loss: 0.6756\n",
      "Epoch 133/600\n",
      "40/40 [==============================] - 0s 1ms/step - loss: 0.6730 - val_loss: 0.6754\n",
      "Epoch 134/600\n",
      "40/40 [==============================] - 0s 1ms/step - loss: 0.6795 - val_loss: 0.6760\n",
      "Epoch 135/600\n",
      "40/40 [==============================] - 0s 2ms/step - loss: 0.6798 - val_loss: 0.6755\n",
      "Epoch 136/600\n",
      "40/40 [==============================] - 0s 2ms/step - loss: 0.6647 - val_loss: 0.6733\n",
      "Epoch 137/600\n",
      "40/40 [==============================] - 0s 2ms/step - loss: 0.6663 - val_loss: 0.6725\n",
      "Epoch 138/600\n",
      "40/40 [==============================] - 0s 1ms/step - loss: 0.6795 - val_loss: 0.6742\n",
      "Epoch 139/600\n",
      "40/40 [==============================] - 0s 1ms/step - loss: 0.6815 - val_loss: 0.6755\n",
      "Epoch 140/600\n",
      "40/40 [==============================] - 0s 2ms/step - loss: 0.6781 - val_loss: 0.6757\n",
      "Epoch 141/600\n",
      "40/40 [==============================] - 0s 2ms/step - loss: 0.6749 - val_loss: 0.6767\n",
      "Epoch 142/600\n",
      "40/40 [==============================] - 0s 1ms/step - loss: 0.6809 - val_loss: 0.6768\n",
      "Epoch 143/600\n",
      "40/40 [==============================] - 0s 1ms/step - loss: 0.6717 - val_loss: 0.6762\n",
      "Epoch 144/600\n",
      "40/40 [==============================] - 0s 1ms/step - loss: 0.6744 - val_loss: 0.6743\n",
      "Epoch 145/600\n",
      "40/40 [==============================] - 0s 1ms/step - loss: 0.6622 - val_loss: 0.6741\n",
      "Epoch 146/600\n",
      "40/40 [==============================] - 0s 1ms/step - loss: 0.6801 - val_loss: 0.6742\n",
      "Epoch 147/600\n",
      "40/40 [==============================] - 0s 1ms/step - loss: 0.6673 - val_loss: 0.6714\n",
      "Epoch 148/600\n",
      "40/40 [==============================] - 0s 1ms/step - loss: 0.6769 - val_loss: 0.6721\n",
      "Epoch 149/600\n",
      "40/40 [==============================] - 0s 2ms/step - loss: 0.6732 - val_loss: 0.6722\n",
      "Epoch 150/600\n",
      "40/40 [==============================] - 0s 1ms/step - loss: 0.6673 - val_loss: 0.6709\n",
      "Epoch 151/600\n",
      "40/40 [==============================] - 0s 1ms/step - loss: 0.6705 - val_loss: 0.6734\n",
      "Epoch 152/600\n",
      "40/40 [==============================] - 0s 1ms/step - loss: 0.6738 - val_loss: 0.6727\n",
      "Epoch 153/600\n",
      "40/40 [==============================] - 0s 1ms/step - loss: 0.6691 - val_loss: 0.6716\n",
      "Epoch 154/600\n",
      "40/40 [==============================] - 0s 1ms/step - loss: 0.6789 - val_loss: 0.6721\n",
      "Epoch 155/600\n",
      "40/40 [==============================] - 0s 1ms/step - loss: 0.6693 - val_loss: 0.6719\n",
      "Epoch 156/600\n",
      "40/40 [==============================] - 0s 1ms/step - loss: 0.6704 - val_loss: 0.6717\n",
      "Epoch 157/600\n",
      "40/40 [==============================] - 0s 1ms/step - loss: 0.6708 - val_loss: 0.6704\n",
      "Epoch 158/600\n",
      "40/40 [==============================] - 0s 1ms/step - loss: 0.6548 - val_loss: 0.6688\n",
      "Epoch 159/600\n",
      "40/40 [==============================] - 0s 1ms/step - loss: 0.6764 - val_loss: 0.6691\n",
      "Epoch 160/600\n",
      "40/40 [==============================] - 0s 1ms/step - loss: 0.6758 - val_loss: 0.6697\n",
      "Epoch 161/600\n",
      "40/40 [==============================] - 0s 1ms/step - loss: 0.6708 - val_loss: 0.6698\n",
      "Epoch 162/600\n",
      "40/40 [==============================] - 0s 1ms/step - loss: 0.6665 - val_loss: 0.6689\n",
      "Epoch 163/600\n",
      "40/40 [==============================] - 0s 1ms/step - loss: 0.6635 - val_loss: 0.6690\n",
      "Epoch 164/600\n",
      "40/40 [==============================] - 0s 1ms/step - loss: 0.6716 - val_loss: 0.6702\n",
      "Epoch 165/600\n",
      "40/40 [==============================] - 0s 1ms/step - loss: 0.6690 - val_loss: 0.6713\n",
      "Epoch 166/600\n",
      "40/40 [==============================] - 0s 1ms/step - loss: 0.6713 - val_loss: 0.6706\n",
      "Epoch 167/600\n",
      "40/40 [==============================] - 0s 2ms/step - loss: 0.6752 - val_loss: 0.6714\n",
      "Epoch 168/600\n",
      "40/40 [==============================] - 0s 1ms/step - loss: 0.6808 - val_loss: 0.6701\n",
      "Epoch 169/600\n",
      "40/40 [==============================] - 0s 1ms/step - loss: 0.6644 - val_loss: 0.6687\n",
      "Epoch 170/600\n",
      "40/40 [==============================] - 0s 2ms/step - loss: 0.6753 - val_loss: 0.6695\n",
      "Epoch 171/600\n",
      "40/40 [==============================] - 0s 1ms/step - loss: 0.6615 - val_loss: 0.6702\n",
      "Epoch 172/600\n",
      "40/40 [==============================] - 0s 1ms/step - loss: 0.6694 - val_loss: 0.6694\n",
      "Epoch 173/600\n",
      "40/40 [==============================] - 0s 1ms/step - loss: 0.6683 - val_loss: 0.6689\n",
      "Epoch 174/600\n",
      "40/40 [==============================] - 0s 1ms/step - loss: 0.6788 - val_loss: 0.6695\n",
      "Epoch 175/600\n",
      "40/40 [==============================] - 0s 1ms/step - loss: 0.6800 - val_loss: 0.6704\n",
      "Epoch 176/600\n",
      "40/40 [==============================] - 0s 1ms/step - loss: 0.6735 - val_loss: 0.6724\n",
      "Epoch 177/600\n",
      "40/40 [==============================] - 0s 1ms/step - loss: 0.6781 - val_loss: 0.6724\n",
      "Epoch 178/600\n",
      "40/40 [==============================] - 0s 2ms/step - loss: 0.6786 - val_loss: 0.6722\n",
      "Epoch 179/600\n",
      "40/40 [==============================] - 0s 1ms/step - loss: 0.6796 - val_loss: 0.6712\n",
      "Epoch 180/600\n",
      "40/40 [==============================] - 0s 1ms/step - loss: 0.6748 - val_loss: 0.6703\n",
      "Epoch 181/600\n",
      "40/40 [==============================] - 0s 1ms/step - loss: 0.6736 - val_loss: 0.6706\n",
      "Epoch 182/600\n",
      "40/40 [==============================] - 0s 1ms/step - loss: 0.6708 - val_loss: 0.6708\n",
      "Epoch 183/600\n",
      "40/40 [==============================] - 0s 1ms/step - loss: 0.6843 - val_loss: 0.6716\n",
      "Epoch 184/600\n",
      "40/40 [==============================] - 0s 1ms/step - loss: 0.6745 - val_loss: 0.6731\n",
      "Epoch 185/600\n",
      "40/40 [==============================] - 0s 1ms/step - loss: 0.6787 - val_loss: 0.6736\n",
      "Epoch 186/600\n",
      "40/40 [==============================] - 0s 1ms/step - loss: 0.6738 - val_loss: 0.6729\n",
      "Epoch 187/600\n",
      "40/40 [==============================] - 0s 1ms/step - loss: 0.6741 - val_loss: 0.6723\n",
      "Epoch 188/600\n",
      "40/40 [==============================] - 0s 1ms/step - loss: 0.6738 - val_loss: 0.6721\n",
      "Epoch 189/600\n",
      "40/40 [==============================] - 0s 1ms/step - loss: 0.6723 - val_loss: 0.6714\n",
      "Epoch 190/600\n",
      "40/40 [==============================] - 0s 1ms/step - loss: 0.6656 - val_loss: 0.6693\n",
      "Epoch 191/600\n",
      "40/40 [==============================] - 0s 1ms/step - loss: 0.6684 - val_loss: 0.6709\n",
      "Epoch 192/600\n",
      "40/40 [==============================] - 0s 1ms/step - loss: 0.6643 - val_loss: 0.6698\n",
      "Epoch 193/600\n",
      "40/40 [==============================] - 0s 1ms/step - loss: 0.6627 - val_loss: 0.6682\n",
      "Epoch 194/600\n",
      "40/40 [==============================] - 0s 1ms/step - loss: 0.6642 - val_loss: 0.6686\n",
      "Epoch 195/600\n",
      "40/40 [==============================] - 0s 1ms/step - loss: 0.6750 - val_loss: 0.6689\n",
      "Epoch 196/600\n",
      "40/40 [==============================] - 0s 1ms/step - loss: 0.6801 - val_loss: 0.6702\n",
      "Epoch 197/600\n",
      "40/40 [==============================] - 0s 1ms/step - loss: 0.6688 - val_loss: 0.6687\n",
      "Epoch 198/600\n",
      "40/40 [==============================] - 0s 1ms/step - loss: 0.6765 - val_loss: 0.6694\n",
      "Epoch 199/600\n",
      "40/40 [==============================] - 0s 1ms/step - loss: 0.6739 - val_loss: 0.6704\n",
      "Epoch 200/600\n",
      "40/40 [==============================] - 0s 1ms/step - loss: 0.6785 - val_loss: 0.6696\n",
      "Epoch 201/600\n",
      "40/40 [==============================] - 0s 1ms/step - loss: 0.6766 - val_loss: 0.6694\n",
      "Epoch 202/600\n",
      "40/40 [==============================] - 0s 1ms/step - loss: 0.6648 - val_loss: 0.6692\n",
      "Epoch 203/600\n",
      "40/40 [==============================] - 0s 1ms/step - loss: 0.6682 - val_loss: 0.6680\n",
      "Epoch 204/600\n",
      "40/40 [==============================] - 0s 1ms/step - loss: 0.6759 - val_loss: 0.6693\n",
      "Epoch 205/600\n",
      "40/40 [==============================] - 0s 1ms/step - loss: 0.6780 - val_loss: 0.6704\n",
      "Epoch 206/600\n",
      "40/40 [==============================] - 0s 1ms/step - loss: 0.6737 - val_loss: 0.6714\n",
      "Epoch 207/600\n",
      "40/40 [==============================] - 0s 1ms/step - loss: 0.6753 - val_loss: 0.6703\n",
      "Epoch 208/600\n",
      "40/40 [==============================] - 0s 1ms/step - loss: 0.6716 - val_loss: 0.6704\n",
      "Epoch 209/600\n",
      "40/40 [==============================] - 0s 1ms/step - loss: 0.6775 - val_loss: 0.6699\n",
      "Epoch 210/600\n",
      "40/40 [==============================] - 0s 1ms/step - loss: 0.6675 - val_loss: 0.6689\n",
      "Epoch 211/600\n",
      "40/40 [==============================] - 0s 2ms/step - loss: 0.6694 - val_loss: 0.6686\n",
      "Epoch 212/600\n",
      "40/40 [==============================] - 0s 2ms/step - loss: 0.6661 - val_loss: 0.6665\n",
      "Epoch 213/600\n",
      "40/40 [==============================] - 0s 2ms/step - loss: 0.6715 - val_loss: 0.6671\n",
      "Epoch 214/600\n",
      "40/40 [==============================] - 0s 2ms/step - loss: 0.6700 - val_loss: 0.6674\n",
      "Epoch 215/600\n",
      "40/40 [==============================] - 0s 1ms/step - loss: 0.6686 - val_loss: 0.6664\n",
      "Epoch 216/600\n",
      "40/40 [==============================] - 0s 1ms/step - loss: 0.6750 - val_loss: 0.6668\n",
      "Epoch 217/600\n",
      "40/40 [==============================] - 0s 1ms/step - loss: 0.6669 - val_loss: 0.6680\n",
      "Epoch 218/600\n",
      "40/40 [==============================] - 0s 1ms/step - loss: 0.6672 - val_loss: 0.6681\n",
      "Epoch 219/600\n",
      "40/40 [==============================] - 0s 1ms/step - loss: 0.6707 - val_loss: 0.6690\n",
      "Epoch 220/600\n",
      "40/40 [==============================] - 0s 1ms/step - loss: 0.6720 - val_loss: 0.6693\n",
      "Epoch 221/600\n",
      "40/40 [==============================] - 0s 1ms/step - loss: 0.6721 - val_loss: 0.6684\n",
      "Epoch 222/600\n",
      "40/40 [==============================] - 0s 1ms/step - loss: 0.6723 - val_loss: 0.6680\n",
      "Epoch 223/600\n",
      "40/40 [==============================] - 0s 1ms/step - loss: 0.6675 - val_loss: 0.6661\n",
      "Epoch 224/600\n",
      "40/40 [==============================] - 0s 1ms/step - loss: 0.6742 - val_loss: 0.6663\n",
      "Epoch 225/600\n",
      "40/40 [==============================] - 0s 1ms/step - loss: 0.6700 - val_loss: 0.6666\n",
      "Epoch 226/600\n",
      "40/40 [==============================] - 0s 1ms/step - loss: 0.6688 - val_loss: 0.6678\n",
      "Epoch 227/600\n",
      "40/40 [==============================] - 0s 1ms/step - loss: 0.6652 - val_loss: 0.6664\n",
      "Epoch 228/600\n",
      "40/40 [==============================] - 0s 1ms/step - loss: 0.6765 - val_loss: 0.6672\n",
      "Epoch 229/600\n",
      "40/40 [==============================] - 0s 1ms/step - loss: 0.6709 - val_loss: 0.6676\n",
      "Epoch 230/600\n",
      "40/40 [==============================] - 0s 1ms/step - loss: 0.6762 - val_loss: 0.6681\n",
      "Epoch 231/600\n",
      "40/40 [==============================] - 0s 1ms/step - loss: 0.6719 - val_loss: 0.6666\n",
      "Epoch 232/600\n",
      "40/40 [==============================] - 0s 1ms/step - loss: 0.6712 - val_loss: 0.6661\n",
      "Epoch 233/600\n",
      "40/40 [==============================] - 0s 1ms/step - loss: 0.6680 - val_loss: 0.6669\n",
      "Epoch 234/600\n",
      "40/40 [==============================] - 0s 1ms/step - loss: 0.6634 - val_loss: 0.6660\n",
      "Epoch 235/600\n",
      "40/40 [==============================] - 0s 1ms/step - loss: 0.6778 - val_loss: 0.6659\n",
      "Epoch 236/600\n",
      "40/40 [==============================] - 0s 1ms/step - loss: 0.6691 - val_loss: 0.6664\n",
      "Epoch 237/600\n",
      "40/40 [==============================] - 0s 1ms/step - loss: 0.6723 - val_loss: 0.6655\n",
      "Epoch 238/600\n",
      "40/40 [==============================] - 0s 1ms/step - loss: 0.6723 - val_loss: 0.6658\n",
      "Epoch 239/600\n",
      "40/40 [==============================] - 0s 2ms/step - loss: 0.6683 - val_loss: 0.6665\n",
      "Epoch 240/600\n",
      "40/40 [==============================] - 0s 2ms/step - loss: 0.6754 - val_loss: 0.6667\n",
      "Epoch 241/600\n",
      "40/40 [==============================] - 0s 2ms/step - loss: 0.6670 - val_loss: 0.6654\n",
      "Epoch 242/600\n",
      "40/40 [==============================] - 0s 1ms/step - loss: 0.6751 - val_loss: 0.6672\n",
      "Epoch 243/600\n",
      "40/40 [==============================] - 0s 1ms/step - loss: 0.6734 - val_loss: 0.6664\n",
      "Epoch 244/600\n",
      "40/40 [==============================] - 0s 1ms/step - loss: 0.6615 - val_loss: 0.6640\n",
      "Epoch 245/600\n"
     ]
    },
    {
     "name": "stdout",
     "output_type": "stream",
     "text": [
      "40/40 [==============================] - 0s 2ms/step - loss: 0.6791 - val_loss: 0.6651\n",
      "Epoch 246/600\n",
      "40/40 [==============================] - 0s 2ms/step - loss: 0.6716 - val_loss: 0.6647\n",
      "Epoch 247/600\n",
      "40/40 [==============================] - 0s 2ms/step - loss: 0.6746 - val_loss: 0.6669\n",
      "Epoch 248/600\n",
      "40/40 [==============================] - 0s 2ms/step - loss: 0.6739 - val_loss: 0.6674\n",
      "Epoch 249/600\n",
      "40/40 [==============================] - 0s 1ms/step - loss: 0.6756 - val_loss: 0.6688\n",
      "Epoch 250/600\n",
      "40/40 [==============================] - 0s 1ms/step - loss: 0.6747 - val_loss: 0.6706\n",
      "Epoch 251/600\n",
      "40/40 [==============================] - 0s 2ms/step - loss: 0.6677 - val_loss: 0.6692\n",
      "Epoch 252/600\n",
      "40/40 [==============================] - 0s 1ms/step - loss: 0.6739 - val_loss: 0.6671\n",
      "Epoch 253/600\n",
      "40/40 [==============================] - 0s 1ms/step - loss: 0.6594 - val_loss: 0.6644\n",
      "Epoch 254/600\n",
      "40/40 [==============================] - 0s 2ms/step - loss: 0.6720 - val_loss: 0.6655\n",
      "Epoch 255/600\n",
      "40/40 [==============================] - 0s 2ms/step - loss: 0.6704 - val_loss: 0.6654\n",
      "Epoch 256/600\n",
      "40/40 [==============================] - 0s 1ms/step - loss: 0.6758 - val_loss: 0.6661\n",
      "Epoch 257/600\n",
      "40/40 [==============================] - 0s 1ms/step - loss: 0.6667 - val_loss: 0.6656\n",
      "Epoch 258/600\n",
      "40/40 [==============================] - 0s 2ms/step - loss: 0.6774 - val_loss: 0.6659\n",
      "Epoch 259/600\n",
      "40/40 [==============================] - 0s 2ms/step - loss: 0.6706 - val_loss: 0.6653\n",
      "Epoch 260/600\n",
      "40/40 [==============================] - 0s 2ms/step - loss: 0.6737 - val_loss: 0.6645\n",
      "Epoch 261/600\n",
      "40/40 [==============================] - 0s 2ms/step - loss: 0.6709 - val_loss: 0.6642\n",
      "Epoch 262/600\n",
      "40/40 [==============================] - 0s 6ms/step - loss: 0.6736 - val_loss: 0.6661\n",
      "Epoch 263/600\n",
      "40/40 [==============================] - 0s 3ms/step - loss: 0.6652 - val_loss: 0.6663\n",
      "Epoch 264/600\n",
      "40/40 [==============================] - 0s 3ms/step - loss: 0.6665 - val_loss: 0.6644\n",
      "Epoch 265/600\n",
      "40/40 [==============================] - 0s 2ms/step - loss: 0.6688 - val_loss: 0.6636\n",
      "Epoch 266/600\n",
      "40/40 [==============================] - 0s 1ms/step - loss: 0.6727 - val_loss: 0.6645\n",
      "Epoch 267/600\n",
      "40/40 [==============================] - 0s 1ms/step - loss: 0.6744 - val_loss: 0.6641\n",
      "Epoch 268/600\n",
      "40/40 [==============================] - 0s 1ms/step - loss: 0.6670 - val_loss: 0.6654\n",
      "Epoch 269/600\n",
      "40/40 [==============================] - 0s 1ms/step - loss: 0.6719 - val_loss: 0.6650\n",
      "Epoch 270/600\n",
      "40/40 [==============================] - 0s 1ms/step - loss: 0.6708 - val_loss: 0.6661\n",
      "Epoch 271/600\n",
      "40/40 [==============================] - 0s 1ms/step - loss: 0.6758 - val_loss: 0.6663\n",
      "Epoch 272/600\n",
      "40/40 [==============================] - 0s 1ms/step - loss: 0.6691 - val_loss: 0.6665\n",
      "Epoch 273/600\n",
      "40/40 [==============================] - 0s 1ms/step - loss: 0.6733 - val_loss: 0.6661\n",
      "Epoch 274/600\n",
      "40/40 [==============================] - 0s 2ms/step - loss: 0.6709 - val_loss: 0.6668\n",
      "Epoch 275/600\n",
      "40/40 [==============================] - 0s 2ms/step - loss: 0.6648 - val_loss: 0.6653\n",
      "Epoch 276/600\n",
      "40/40 [==============================] - 0s 1ms/step - loss: 0.6698 - val_loss: 0.6644\n",
      "Epoch 277/600\n",
      "40/40 [==============================] - 0s 2ms/step - loss: 0.6854 - val_loss: 0.6672\n",
      "Epoch 278/600\n",
      "40/40 [==============================] - 0s 2ms/step - loss: 0.6678 - val_loss: 0.6662\n",
      "Epoch 279/600\n",
      "40/40 [==============================] - 0s 1ms/step - loss: 0.6678 - val_loss: 0.6660\n",
      "Epoch 280/600\n",
      "40/40 [==============================] - 0s 1ms/step - loss: 0.6726 - val_loss: 0.6669\n",
      "Epoch 281/600\n",
      "40/40 [==============================] - 0s 1ms/step - loss: 0.6763 - val_loss: 0.6669\n",
      "Epoch 282/600\n",
      "40/40 [==============================] - 0s 1ms/step - loss: 0.6725 - val_loss: 0.6655\n",
      "Epoch 283/600\n",
      "40/40 [==============================] - 0s 1ms/step - loss: 0.6691 - val_loss: 0.6660\n",
      "Epoch 284/600\n",
      "40/40 [==============================] - 0s 1ms/step - loss: 0.6609 - val_loss: 0.6647\n",
      "Epoch 285/600\n",
      "40/40 [==============================] - 0s 1ms/step - loss: 0.6730 - val_loss: 0.6652\n",
      "Epoch 286/600\n",
      "40/40 [==============================] - 0s 1ms/step - loss: 0.6763 - val_loss: 0.6661\n",
      "Epoch 287/600\n",
      "40/40 [==============================] - 0s 1ms/step - loss: 0.6651 - val_loss: 0.6642\n",
      "Epoch 288/600\n",
      "40/40 [==============================] - 0s 1ms/step - loss: 0.6664 - val_loss: 0.6636\n",
      "Epoch 289/600\n",
      "40/40 [==============================] - 0s 1ms/step - loss: 0.6677 - val_loss: 0.6647\n",
      "Epoch 290/600\n",
      "40/40 [==============================] - 0s 1ms/step - loss: 0.6740 - val_loss: 0.6658\n",
      "Epoch 291/600\n",
      "40/40 [==============================] - 0s 1ms/step - loss: 0.6723 - val_loss: 0.6673\n",
      "Epoch 292/600\n",
      "40/40 [==============================] - 0s 1ms/step - loss: 0.6675 - val_loss: 0.6677\n",
      "Epoch 293/600\n",
      "40/40 [==============================] - 0s 1ms/step - loss: 0.6666 - val_loss: 0.6647\n",
      "Epoch 294/600\n",
      "40/40 [==============================] - 0s 1ms/step - loss: 0.6650 - val_loss: 0.6636\n",
      "Epoch 295/600\n",
      "40/40 [==============================] - 0s 1ms/step - loss: 0.6661 - val_loss: 0.6650\n",
      "Epoch 296/600\n",
      "40/40 [==============================] - 0s 1ms/step - loss: 0.6786 - val_loss: 0.6655\n",
      "Epoch 297/600\n",
      "40/40 [==============================] - 0s 1ms/step - loss: 0.6668 - val_loss: 0.6654\n",
      "Epoch 298/600\n",
      "40/40 [==============================] - 0s 2ms/step - loss: 0.6744 - val_loss: 0.6670\n",
      "Epoch 299/600\n",
      "40/40 [==============================] - 0s 2ms/step - loss: 0.6662 - val_loss: 0.6647\n",
      "Epoch 300/600\n",
      "40/40 [==============================] - 0s 2ms/step - loss: 0.6711 - val_loss: 0.6640\n",
      "Epoch 301/600\n",
      "40/40 [==============================] - 0s 1ms/step - loss: 0.6717 - val_loss: 0.6654\n",
      "Epoch 302/600\n",
      "40/40 [==============================] - 0s 1ms/step - loss: 0.6612 - val_loss: 0.6631\n",
      "Epoch 303/600\n",
      "40/40 [==============================] - 0s 1ms/step - loss: 0.6603 - val_loss: 0.6619\n",
      "Epoch 304/600\n",
      "40/40 [==============================] - 0s 1ms/step - loss: 0.6646 - val_loss: 0.6636\n",
      "Epoch 305/600\n",
      "40/40 [==============================] - 0s 2ms/step - loss: 0.6706 - val_loss: 0.6662\n",
      "Epoch 306/600\n",
      "40/40 [==============================] - 0s 2ms/step - loss: 0.6571 - val_loss: 0.6657\n",
      "Epoch 307/600\n",
      "40/40 [==============================] - 0s 2ms/step - loss: 0.6791 - val_loss: 0.6662\n",
      "Epoch 308/600\n",
      "40/40 [==============================] - 0s 2ms/step - loss: 0.6718 - val_loss: 0.6650\n",
      "Epoch 309/600\n",
      "40/40 [==============================] - 0s 1ms/step - loss: 0.6638 - val_loss: 0.6622\n",
      "Epoch 310/600\n",
      "40/40 [==============================] - 0s 1ms/step - loss: 0.6659 - val_loss: 0.6618\n",
      "Epoch 311/600\n",
      "40/40 [==============================] - 0s 1ms/step - loss: 0.6709 - val_loss: 0.6630\n",
      "Epoch 312/600\n",
      "40/40 [==============================] - 0s 2ms/step - loss: 0.6658 - val_loss: 0.6636\n",
      "Epoch 313/600\n",
      "40/40 [==============================] - 0s 2ms/step - loss: 0.6656 - val_loss: 0.6624\n",
      "Epoch 314/600\n",
      "40/40 [==============================] - 0s 2ms/step - loss: 0.6770 - val_loss: 0.6650\n",
      "Epoch 315/600\n",
      "40/40 [==============================] - 0s 1ms/step - loss: 0.6811 - val_loss: 0.6672\n",
      "Epoch 316/600\n",
      "40/40 [==============================] - 0s 1ms/step - loss: 0.6678 - val_loss: 0.6655\n",
      "Epoch 317/600\n",
      "40/40 [==============================] - 0s 1ms/step - loss: 0.6652 - val_loss: 0.6652\n",
      "Epoch 318/600\n",
      "40/40 [==============================] - 0s 1ms/step - loss: 0.6635 - val_loss: 0.6627\n",
      "Epoch 319/600\n",
      "40/40 [==============================] - 0s 2ms/step - loss: 0.6711 - val_loss: 0.6639\n",
      "Epoch 320/600\n",
      "40/40 [==============================] - 0s 2ms/step - loss: 0.6726 - val_loss: 0.6626\n",
      "Epoch 321/600\n",
      "40/40 [==============================] - 0s 1ms/step - loss: 0.6666 - val_loss: 0.6638\n",
      "Epoch 322/600\n",
      "40/40 [==============================] - 0s 1ms/step - loss: 0.6731 - val_loss: 0.6667\n",
      "Epoch 323/600\n",
      "40/40 [==============================] - 0s 1ms/step - loss: 0.6715 - val_loss: 0.6673\n",
      "Epoch 324/600\n",
      "40/40 [==============================] - 0s 1ms/step - loss: 0.6723 - val_loss: 0.6664\n",
      "Epoch 325/600\n",
      "40/40 [==============================] - 0s 1ms/step - loss: 0.6734 - val_loss: 0.6666\n",
      "Epoch 326/600\n",
      "40/40 [==============================] - 0s 1ms/step - loss: 0.6676 - val_loss: 0.6684\n",
      "Epoch 327/600\n",
      "40/40 [==============================] - 0s 1ms/step - loss: 0.6692 - val_loss: 0.6664\n",
      "Epoch 328/600\n",
      "40/40 [==============================] - 0s 1ms/step - loss: 0.6753 - val_loss: 0.6652\n",
      "Epoch 329/600\n",
      "40/40 [==============================] - 0s 1ms/step - loss: 0.6724 - val_loss: 0.6663\n",
      "Epoch 330/600\n",
      "40/40 [==============================] - 0s 1ms/step - loss: 0.6695 - val_loss: 0.6668\n",
      "Epoch 331/600\n",
      "40/40 [==============================] - 0s 1ms/step - loss: 0.6742 - val_loss: 0.6661\n",
      "Epoch 332/600\n",
      "40/40 [==============================] - 0s 1ms/step - loss: 0.6641 - val_loss: 0.6651\n",
      "Epoch 333/600\n",
      "40/40 [==============================] - 0s 1ms/step - loss: 0.6695 - val_loss: 0.6665\n",
      "Epoch 334/600\n",
      "40/40 [==============================] - 0s 1ms/step - loss: 0.6754 - val_loss: 0.6662\n",
      "Epoch 335/600\n",
      "40/40 [==============================] - 0s 1ms/step - loss: 0.6708 - val_loss: 0.6665\n",
      "Epoch 335: early stopping\n"
     ]
    },
    {
     "data": {
      "text/plain": [
       "<keras.callbacks.History at 0x2e857965df0>"
      ]
     },
     "execution_count": 61,
     "metadata": {},
     "output_type": "execute_result"
    }
   ],
   "source": [
    "model.fit(x=X_train,y=y_train,epochs=600,validation_data=(X_test,y_test),callbacks=[early_stop])"
   ]
  },
  {
   "cell_type": "code",
   "execution_count": 62,
   "id": "3b85400b",
   "metadata": {},
   "outputs": [
    {
     "data": {
      "text/plain": [
       "<AxesSubplot:>"
      ]
     },
     "execution_count": 62,
     "metadata": {},
     "output_type": "execute_result"
    },
    {
     "data": {
      "image/png": "[encoded data removed]",
      "text/plain": [
       "<Figure size 432x288 with 1 Axes>"
      ]
     },
     "metadata": {
      "needs_background": "light"
     },
     "output_type": "display_data"
    }
   ],
   "source": [
    "losses = pd.DataFrame(model.history.history)\n",
    "losses.plot()"
   ]
  },
  {
   "cell_type": "code",
   "execution_count": 63,
   "id": "48e9c6c8",
   "metadata": {},
   "outputs": [],
   "source": [
    "predictions = (model.predict(X_test) > 0.5).astype(\"int32\")"
   ]
  },
  {
   "cell_type": "code",
   "execution_count": 64,
   "id": "35bd4dda",
   "metadata": {},
   "outputs": [
    {
     "name": "stdout",
     "output_type": "stream",
     "text": [
      "Accuracy Score: 0.645367412140575\n",
      "\n",
      "\n",
      "              precision    recall  f1-score   support\n",
      "\n",
      "           0       0.62      0.82      0.71       165\n",
      "           1       0.69      0.45      0.55       148\n",
      "\n",
      "    accuracy                           0.65       313\n",
      "   macro avg       0.66      0.64      0.63       313\n",
      "weighted avg       0.66      0.65      0.63       313\n",
      "\n",
      "\n",
      "\n",
      "[[135  30]\n",
      " [ 81  67]]\n"
     ]
    }
   ],
   "source": [
    "print('Accuracy Score:',accuracy_score(y_test,predictions))\n",
    "print('\\n')\n",
    "print(classification_report(y_test,predictions))\n",
    "print('\\n')\n",
    "print(confusion_matrix(y_test,predictions))"
   ]
  },
  {
   "cell_type": "code",
   "execution_count": null,
   "id": "ddf92f01",
   "metadata": {},
   "outputs": [],
   "source": []
  }
 ],
 "metadata": {
  "kernelspec": {
   "display_name": "Python 3",
   "language": "python",
   "name": "python3"
  },
  "language_info": {
   "codemirror_mode": {
    "name": "ipython",
    "version": 3
   },
   "file_extension": ".py",
   "mimetype": "text/x-python",
   "name": "python",
   "nbconvert_exporter": "python",
   "pygments_lexer": "ipython3",
   "version": "3.8.8"
  }
 },
 "nbformat": 4,
 "nbformat_minor": 5
}
