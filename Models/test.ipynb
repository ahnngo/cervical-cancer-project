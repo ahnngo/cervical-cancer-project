{
 "cells": [
  {
   "cell_type": "code",
   "execution_count": 11,
   "metadata": {},
   "outputs": [],
   "source": [
    "import pandas as pd\n",
    "import numpy as np\n",
    "from collections import Counter\n",
    "from sklearn.datasets import make_classification\n",
    "from imblearn.over_sampling import BorderlineSMOTE\n",
    "from matplotlib import pyplot\n",
    "from numpy import where\n",
    "from sklearn.tree import DecisionTreeClassifier\n",
    "from sklearn.svm import SVC\n",
    "from sklearn.neighbors import KNeighborsClassifier\n",
    "from sklearn.linear_model import LogisticRegression\n",
    "from sklearn.ensemble import RandomForestClassifier\n",
    "from sklearn.model_selection import cross_val_score\n",
    "from sklearn.model_selection import GridSearchCV\n",
    "from sklearn.metrics import accuracy_score, confusion_matrix, classification_report, precision_score, f1_score, recall_score\n",
    "from sklearn.ensemble import ExtraTreesClassifier\n",
    "from sklearn.feature_selection import SelectFromModel\n",
    "from sklearn.model_selection import train_test_split"
   ]
  },
  {
   "cell_type": "code",
   "execution_count": 10,
   "metadata": {},
   "outputs": [],
   "source": [
    "def pre_process(test, seed):\n",
    "    np.random.seed(seed)\n",
    "    df = pd.read_csv(\"Clean Data_2.csv\")\n",
    "    df.drop('Unnamed: 0', inplace=True, axis=1)\n",
    "    X = df.drop(['Hinselmann', 'Schiller', 'Citology', 'Biopsy'], axis=1).values\n",
    "    y = df[test].values\n",
    "    oversample = BorderlineSMOTE()\n",
    "    X, y = oversample.fit_resample(X, y)\n",
    "    clf = ExtraTreesClassifier(n_estimators=50)\n",
    "    clf = clf.fit(X, y)\n",
    "    model = SelectFromModel(clf, prefit=True)\n",
    "    X_new = model.transform(X)\n",
    "    print(X_new.shape)\n",
    "    X_train, X_test, y_train, y_test = train_test_split(X_new, y, test_size=0.2, random_state=101)\n",
    "    return X_train, X_test, y_train, y_test"
   ]
  },
  {
   "cell_type": "code",
   "execution_count": 5,
   "metadata": {},
   "outputs": [],
   "source": [
    "def biopsy_model():\n",
    "    X_train, X_test, y_train, y_test = pre_process('Biopsy', 2)\n",
    "    rfc = RandomForestClassifier(n_estimators=200)\n",
    "    rfc.fit(X_train,y_train)    \n",
    "    return rfc"
   ]
  },
  {
   "cell_type": "code",
   "execution_count": 9,
   "metadata": {},
   "outputs": [
    {
     "name": "stdout",
     "output_type": "stream",
     "text": [
      "(1602, 7)\n"
     ]
    },
    {
     "data": {
      "text/plain": [
       "(array([[26.        ,  4.        , 16.        , ...,  1.        ,\n",
       "          3.72      ,  0.        ],\n",
       "        [20.        ,  3.        , 18.        , ...,  1.        ,\n",
       "          2.9       ,  0.        ],\n",
       "        [15.        ,  1.        , 14.        , ...,  1.        ,\n",
       "          0.08      ,  0.        ],\n",
       "        ...,\n",
       "        [21.69374579,  3.30625421, 15.        , ...,  0.69374579,\n",
       "          0.69374579,  0.        ],\n",
       "        [38.        ,  2.76539611, 17.29618832, ...,  1.        ,\n",
       "         11.40762336,  0.23460389],\n",
       "        [21.        ,  4.        , 15.        , ...,  0.        ,\n",
       "          0.        ,  0.        ]]),\n",
       " array([[28.        ,  4.66551233, 15.33795069, ...,  0.66551233,\n",
       "          1.99653699,  0.        ],\n",
       "        [19.        ,  1.        , 18.        , ...,  1.        ,\n",
       "          1.        ,  1.        ],\n",
       "        [22.        ,  3.        , 16.15158736, ...,  0.42420632,\n",
       "          0.42420632,  0.        ],\n",
       "        ...,\n",
       "        [22.        ,  3.23733517, 15.23733517, ...,  1.        ,\n",
       "          0.88133241,  0.        ],\n",
       "        [34.        ,  2.        , 21.        , ...,  1.        ,\n",
       "          0.33      ,  0.        ],\n",
       "        [39.23886744,  1.76113256, 19.23886744, ...,  1.        ,\n",
       "         13.09716861,  0.61943372]]),\n",
       " array([0, 0, 0, ..., 1, 1, 1], dtype=int64),\n",
       " array([1, 1, 1, 0, 1, 1, 1, 1, 0, 0, 0, 1, 0, 0, 1, 1, 0, 1, 1, 1, 1, 0,\n",
       "        0, 0, 0, 1, 0, 1, 0, 1, 0, 1, 0, 0, 1, 1, 1, 0, 0, 1, 0, 0, 0, 0,\n",
       "        1, 1, 1, 1, 1, 1, 0, 0, 1, 1, 1, 1, 0, 0, 0, 1, 0, 1, 1, 0, 0, 0,\n",
       "        1, 0, 1, 0, 1, 0, 0, 0, 0, 0, 0, 1, 1, 1, 0, 0, 1, 0, 1, 1, 0, 0,\n",
       "        1, 1, 1, 0, 0, 1, 1, 0, 0, 0, 0, 0, 1, 1, 1, 1, 1, 1, 0, 1, 1, 1,\n",
       "        0, 1, 0, 0, 1, 0, 0, 0, 0, 0, 0, 0, 1, 0, 0, 0, 0, 1, 1, 1, 1, 0,\n",
       "        0, 0, 1, 0, 1, 1, 0, 1, 0, 0, 1, 0, 1, 1, 1, 1, 0, 0, 1, 1, 0, 0,\n",
       "        1, 0, 0, 1, 1, 1, 0, 0, 0, 0, 1, 0, 1, 0, 0, 0, 0, 1, 1, 1, 0, 0,\n",
       "        1, 0, 1, 1, 0, 1, 1, 0, 1, 0, 0, 1, 0, 1, 0, 1, 0, 0, 0, 1, 1, 1,\n",
       "        1, 1, 1, 1, 0, 1, 1, 0, 0, 1, 1, 0, 1, 0, 0, 0, 1, 1, 1, 0, 1, 0,\n",
       "        0, 0, 0, 0, 0, 1, 0, 1, 1, 0, 1, 1, 0, 1, 0, 0, 1, 0, 1, 1, 1, 0,\n",
       "        1, 1, 0, 1, 1, 0, 1, 0, 0, 0, 0, 0, 1, 1, 0, 0, 0, 1, 0, 1, 1, 1,\n",
       "        0, 0, 1, 1, 0, 0, 0, 0, 1, 1, 1, 0, 1, 1, 0, 1, 1, 0, 1, 1, 1, 0,\n",
       "        1, 0, 0, 1, 1, 0, 0, 0, 0, 0, 1, 0, 0, 0, 1, 1, 1, 0, 0, 1, 1, 1,\n",
       "        0, 1, 1, 1, 0, 0, 1, 1, 0, 0, 1, 0, 1], dtype=int64))"
      ]
     },
     "execution_count": 9,
     "metadata": {},
     "output_type": "execute_result"
    }
   ],
   "source": [
    "pre_process('Biopsy', 2)\n"
   ]
  },
  {
   "cell_type": "code",
   "execution_count": null,
   "metadata": {},
   "outputs": [],
   "source": []
  }
 ],
 "metadata": {
  "kernelspec": {
   "display_name": "Python 3.10.0 64-bit",
   "language": "python",
   "name": "python3"
  },
  "language_info": {
   "codemirror_mode": {
    "name": "ipython",
    "version": 3
   },
   "file_extension": ".py",
   "mimetype": "text/x-python",
   "name": "python",
   "nbconvert_exporter": "python",
   "pygments_lexer": "ipython3",
   "version": "3.10.0"
  },
  "orig_nbformat": 4,
  "vscode": {
   "interpreter": {
    "hash": "687828642759288c4c101b0148c79aaccee24a355a0977c1675d3c8b67778758"
   }
  }
 },
 "nbformat": 4,
 "nbformat_minor": 2
}
